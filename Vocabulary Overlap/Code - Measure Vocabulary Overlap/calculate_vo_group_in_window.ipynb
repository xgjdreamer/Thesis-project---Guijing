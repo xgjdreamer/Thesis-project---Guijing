{
 "cells": [
  {
   "cell_type": "code",
   "execution_count": 45,
   "metadata": {},
   "outputs": [],
   "source": [
    "from pyspark import SparkContext\n",
    "from pyspark.sql.session import SparkSession\n",
    "import copy\n",
    "sc.stop()\n",
    "sc = SparkContext('local')\n",
    "spark = SparkSession(sc)"
   ]
  },
  {
   "cell_type": "code",
   "execution_count": 46,
   "metadata": {},
   "outputs": [
    {
     "name": "stdout",
     "output_type": "stream",
     "text": [
      "S0558,well i vote out and then when you you know when you've do it and er\n",
      "S0517,do vote out\n",
      "S0558,yeah\n",
      "S0517,yeah\n",
      "S0558,and i think have this feel you know on occasion i've have these feel and i think oh i dunno if i've do the right thing\n"
     ]
    }
   ],
   "source": [
    "import os,glob\n",
    "path0 = 'tsvfiles/'\n",
    "df = spark.read.csv(\n",
    "    os.path.join(path0,\"SUNM.tsv\"), sep=r'\\t', header=False, mode=\"DROPMALFORMED\")\n",
    "\n",
    "dataColl=df.collect()\n",
    "for row in dataColl[0:5]:\n",
    "    print(row[0] + \",\" +str(row[1]))"
   ]
  },
  {
   "cell_type": "code",
   "execution_count": 47,
   "metadata": {},
   "outputs": [
    {
     "name": "stdout",
     "output_type": "stream",
     "text": [
      "2026\n"
     ]
    }
   ],
   "source": [
    "import xmltodict\n",
    "def extract_time(f):\n",
    "    with open(f) as fd:\n",
    "        doc = xmltodict.parse(fd.read())\n",
    "    s_time = doc['text']['header']['rec_length']\n",
    "    s_seconds = (int(s_time[0])*3600)+ (int(s_time[2])*10+int(s_time[3]))*60 + int(s_time[5])*10+int(s_time[6])\n",
    "    return s_seconds\n",
    "\n",
    "s = extract_time('S376.xml')\n",
    "print(s)"
   ]
  },
  {
   "cell_type": "code",
   "execution_count": 48,
   "metadata": {},
   "outputs": [],
   "source": [
    "def extract_speakers_n(df1, n):\n",
    "    dataC = df1.collect()\n",
    "    speaker = [dataC[0][0]]\n",
    "    for row in dataC:\n",
    "        if row[0] not in speaker:\n",
    "            speaker.append(row[0])\n",
    "        if len(speaker) == n:\n",
    "            break\n",
    "    #rdd1 = rdd1.rdd\n",
    "    return df1, speaker"
   ]
  },
  {
   "cell_type": "code",
   "execution_count": 49,
   "metadata": {},
   "outputs": [],
   "source": [
    "def extract_dialogues_dic_n(rdd1, speaker):\n",
    "    n = len(speaker)\n",
    "    dataC = rdd1.collect()\n",
    "    speaker_dic = [{} for x in range(0,n)]\n",
    "    \n",
    "    \n",
    "    for i in range(0,len(dataC)):\n",
    "        if dataC[i][0] in speaker:\n",
    "            p = speaker.index(dataC[i][0])\n",
    "            if dataC[i][1]!=None:\n",
    "                speaker_dic[p][i] = dataC[i][1].split()\n",
    "    \n",
    "    return speaker, speaker_dic"
   ]
  },
  {
   "cell_type": "code",
   "execution_count": 50,
   "metadata": {},
   "outputs": [],
   "source": [
    "def get_vo(speaker, speaker_dic):\n",
    "    n = len(speaker)\n",
    "    voand = []\n",
    "    voor = []\n",
    "    speaker_vo = [[] for x in range(0,n)]\n",
    "    vo_group = {}\n",
    "    token_n = 0\n",
    "    \n",
    "    for i in range(0,n):\n",
    "        for k,tokens in speaker_dic[i].items():\n",
    "            \n",
    "            for token in tokens:\n",
    "                token_n = token_n+1\n",
    "                if token not in voor:\n",
    "                    voor.append(token)\n",
    "                if token not in speaker_vo[i]:\n",
    "                    speaker_vo[i].append(token)\n",
    "    \n",
    "    countand = 0\n",
    "    if n==2:\n",
    "        for token0 in speaker_vo[0]:\n",
    "            if token0 in speaker_vo[1]:\n",
    "                countand = countand+1\n",
    "    if n==3:\n",
    "        for token0 in speaker_vo[0]:\n",
    "            if (token0 in speaker_vo[1]) and (token0 in speaker_vo[2]):\n",
    "                countand = countand+1\n",
    "    if n==4:\n",
    "        for token0 in speaker_vo[0]:\n",
    "            if (token0 in speaker_vo[1]) and (token0 in speaker_vo[2]) and (token0 in speaker_vo[3]):\n",
    "                countand = countand+1\n",
    "    countor = len(voor)\n",
    "    overlap = countand/countor\n",
    "    vo_group = {\"speaker_number\": n, \"vo_overlap\": countand, \"vo_total\": countor, \"total_token_number\":token_n, \"overlap\": overlap} \n",
    "    return vo_group\n",
    "            "
   ]
  },
  {
   "cell_type": "code",
   "execution_count": 51,
   "metadata": {},
   "outputs": [],
   "source": [
    "def get_vo_pairwise(speaker, speaker_dic):\n",
    "    n = len(speaker)\n",
    "    voand = []\n",
    "    voor = []\n",
    "    speaker_vo = [[] for x in range(0,n)]\n",
    "    vo_group = {}\n",
    "    token_n = 0\n",
    "    \n",
    "    for i in range(0,n):\n",
    "        for k,tokens in speaker_dic[i].items():\n",
    "            for token in tokens:\n",
    "                token_n = token_n+1\n",
    "                if token not in voor:\n",
    "                    voor.append(token)\n",
    "                if token not in speaker_vo[i]:\n",
    "                    speaker_vo[i].append(token)\n",
    "    \n",
    "    if n==3:\n",
    "        countand_list = [[] for j in range(0,3)]\n",
    "        x = 0\n",
    "        for s_i in range(0,n-1):\n",
    "            for s_j in range(s_i+1,n):\n",
    "                for token in speaker_vo[s_i]:\n",
    "                    if token in speaker_vo[s_j]:\n",
    "                        countand_list[x].append(token)\n",
    "                x = x+1\n",
    "        countand = 0               \n",
    "        for c in range(0,3):\n",
    "            countand = countand + len(countand_list[c])\n",
    "        \n",
    "        countor = len(voor)\n",
    "        overlap = countand/(3*countor)\n",
    "        \n",
    "        vo_group = {\"speaker_number\": n, \"vo_overlap\": countand, \"vo_total\": countor, \"total_token_number\":token_n, \"overlap\": overlap,\\\n",
    "                    \"s1_and_s2\": len(countand_list[0]), \"s1_and_s3\": len(countand_list[1]),\"s2_and_s3\": len(countand_list[2])}\n",
    "            \n",
    "            \n",
    "    if n==4:\n",
    "        countand_list = [[] for i in range(0,6)]\n",
    "        x = 0\n",
    "        for s_i in range(0,n-1):\n",
    "            for s_j in range(s_i+1,n):\n",
    "                for token in speaker_vo[s_i]:\n",
    "                    if token in speaker_vo[s_j]:\n",
    "                        countand_list[x].append(token)\n",
    "                x = x+1\n",
    "        countand = 0               \n",
    "        for c in range(0,6):\n",
    "            countand = countand + len(countand_list[c])\n",
    "        countor = len(voor)\n",
    "        overlap = countand/(6*countor)\n",
    "        \n",
    "        vo_group = {\"speaker_number\": n, \"vo_overlap\": countand, \"vo_total\": countor, \"total_token_number\":token_n, \"overlap\": overlap,\\\n",
    "                    \"s1_and_s2\": len(countand_list[0]), \"s1_and_s3\": len(countand_list[1]),\"s1_and_s4\": len(countand_list[2]),\\\n",
    "                   \"s2_and_s3\": len(countand_list[3]),\"s2_and_s4\": len(countand_list[4]),\"s3_and_s4\": len(countand_list[5])}\n",
    "    \n",
    "    \n",
    "    return vo_group"
   ]
  },
  {
   "cell_type": "code",
   "execution_count": 52,
   "metadata": {},
   "outputs": [],
   "source": [
    "def get_vo_average_speaker(speaker, speaker_dic):\n",
    "    n = len(speaker)\n",
    "    voand = []\n",
    "    voor = []\n",
    "    speaker_vo = [[] for x in range(0,n)]\n",
    "    vo_group = {}\n",
    "    token_n = 0\n",
    "    \n",
    "    for i in range(0,n):\n",
    "        for k,tokens in speaker_dic[i].items():\n",
    "            token_n = token_n + len(tokens)\n",
    "            for token in tokens:\n",
    "#                 token_n = token_n+1\n",
    "                if token not in voor:\n",
    "                    voor.append(token)\n",
    "                if token not in speaker_vo[i]:\n",
    "                    speaker_vo[i].append(token)\n",
    "                    \n",
    "    if n==2:\n",
    "        voand_2 = []\n",
    "        for s0 in speaker_vo[0]:\n",
    "            if s0 in speaker_vo[1]:\n",
    "                if s0 not in voand_2:\n",
    "                    voand_2.append(s0)\n",
    "                    \n",
    "        countand = len(voand_2)\n",
    "        countor = len(voor)\n",
    "        overlap = countand/countor\n",
    "        \n",
    "        vo_group = {\"speaker_number\": n, \"vo_overlap\": countand, \"vo_total\": countor, \"total_token_number\":token_n, \"overlap\": overlap}\n",
    "    \n",
    "    if n==3:\n",
    "        countand_list = [[] for j in range(0,3)]\n",
    "        x = 0\n",
    "        for s_i in range(0,n):\n",
    "            for s_j in range(0,n):\n",
    "                if s_j != s_i:\n",
    "                    for token in speaker_vo[s_i]:\n",
    "                        if token in speaker_vo[s_j]:\n",
    "                            if token not in countand_list[x]:\n",
    "                                countand_list[x].append(token)\n",
    "            x = x+1\n",
    "            \n",
    "        countand = 0               \n",
    "        for c in range(0,3):\n",
    "            countand = countand + len(countand_list[c])\n",
    "        \n",
    "        countor = len(voor)\n",
    "        overlap = countand/(3*countor)\n",
    "        \n",
    "        vo_group = {\"speaker_number\": n, \"vo_overlap\": countand, \"vo_total\": countor, \"total_token_number\":token_n, \"overlap\": overlap,\\\n",
    "                    \"s1_and_other\": len(countand_list[0]), \"s2_and_other\": len(countand_list[1]),\"s3_and_other\": len(countand_list[2])}\n",
    "            \n",
    "            \n",
    "    if n==4:\n",
    "        countand_list = [[] for i in range(0,4)]\n",
    "        x = 0\n",
    "        \n",
    "        for s_i in range(0,n):\n",
    "            for s_j in range(0,n):\n",
    "                if s_j != s_i:\n",
    "                    for token in speaker_vo[s_i]:\n",
    "                        if token in speaker_vo[s_j]:\n",
    "                            if token not in countand_list[x]:\n",
    "                                countand_list[x].append(token)\n",
    "            x = x+1\n",
    "            \n",
    "        countand = 0               \n",
    "        for c in range(0,4):\n",
    "            countand = countand + len(countand_list[c])\n",
    "        \n",
    "        countor = len(voor)\n",
    "        overlap = countand/(4*countor)\n",
    "\n",
    "        \n",
    "        vo_group = {\"speaker_number\": n, \"vo_overlap\": countand, \"vo_total\": countor, \"total_token_number\":token_n, \"overlap\": overlap,\\\n",
    "                    \"s1_and_other\": len(countand_list[0]), \"s2_and_other\": len(countand_list[1]),\"s3_and_other\": len(countand_list[2]),\\\n",
    "                   \"s4_and_other\": len(countand_list[3])}\n",
    "    \n",
    "    \n",
    "    return vo_group"
   ]
  },
  {
   "cell_type": "code",
   "execution_count": 53,
   "metadata": {},
   "outputs": [],
   "source": [
    "def get_vo_average_speaker_in_window(speaker, speaker_dic, start, end):\n",
    "    n = len(speaker)\n",
    "    voand = []\n",
    "    voor = []\n",
    "    speaker_vo = [[] for x in range(0,n)]\n",
    "    vo_group = {}\n",
    "    token_n = 0\n",
    "    \n",
    "    for i in range(0,n):\n",
    "        for k,tokens in speaker_dic[i].items():\n",
    "            if k>=start and k<end:\n",
    "                token_n = token_n + len(tokens)\n",
    "                for token in tokens:\n",
    "#                 token_n = token_n+1\n",
    "                    if token not in voor:\n",
    "                        voor.append(token)\n",
    "                    if token not in speaker_vo[i]:\n",
    "                        speaker_vo[i].append(token)\n",
    "    if n==2:\n",
    "        voand_2 = []\n",
    "        for s0 in speaker_vo[0]:\n",
    "            if s0 in speaker_vo[1]:\n",
    "                if s0 not in voand_2:\n",
    "                    voand_2.append(s0)\n",
    "                    \n",
    "        countand = len(voand_2)\n",
    "        countor = len(voor)\n",
    "        overlap = countand/countor\n",
    "        \n",
    "        vo_group = {\"speaker_number\": n, \"vo_overlap\": countand, \"vo_total\": countor, \"total_token_number\":token_n, \"overlap\": overlap, \"begin\":start, \"end\":end}\n",
    "    \n",
    "    \n",
    "    if n==3:\n",
    "        countand_list = [[] for j in range(0,3)]\n",
    "        x = 0\n",
    "        for s_i in range(0,n):\n",
    "            for s_j in range(0,n):\n",
    "                if s_j != s_i:\n",
    "                    for token in speaker_vo[s_i]:\n",
    "                        if token in speaker_vo[s_j]:\n",
    "                            if token not in countand_list[x]:\n",
    "                                countand_list[x].append(token)\n",
    "            x = x+1\n",
    "            \n",
    "        countand = 0               \n",
    "        for c in range(0,3):\n",
    "            countand = countand + len(countand_list[c])\n",
    "        \n",
    "        countor = len(voor)\n",
    "        overlap = countand/(3*countor)\n",
    "        \n",
    "        vo_group = {\"speaker_number\": n, \"vo_overlap\": countand, \"vo_total\": countor, \"total_token_number\":token_n, \"overlap\": overlap,\\\n",
    "                    \"s1_and_other\": len(countand_list[0]), \"s2_and_other\": len(countand_list[1]),\"s3_and_other\": len(countand_list[2]),\\\n",
    "                   \"begin\":start, \"end\":end}\n",
    "            \n",
    "            \n",
    "    if n==4:\n",
    "        countand_list = [[] for i in range(0,4)]\n",
    "        x = 0\n",
    "        \n",
    "        for s_i in range(0,n):\n",
    "            for s_j in range(0,n):\n",
    "                if s_j != s_i:\n",
    "                    for token in speaker_vo[s_i]:\n",
    "                        if token in speaker_vo[s_j]:\n",
    "                            if token not in countand_list[x]:\n",
    "                                countand_list[x].append(token)\n",
    "            x = x+1\n",
    "            \n",
    "        countand = 0               \n",
    "        for c in range(0,4):\n",
    "            countand = countand + len(countand_list[c])\n",
    "        \n",
    "        countor = len(voor)\n",
    "        overlap = countand/(4*countor)\n",
    "\n",
    "        \n",
    "        vo_group = {\"speaker_number\": n, \"vo_overlap\": countand, \"vo_total\": countor, \"total_token_number\":token_n, \"overlap\": overlap,\\\n",
    "                    \"s1_and_other\": len(countand_list[0]), \"s2_and_other\": len(countand_list[1]),\"s3_and_other\": len(countand_list[2]),\\\n",
    "                   \"s4_and_other\": len(countand_list[3]), 'begin':start, 'end':end}\n",
    "    \n",
    "    \n",
    "    return vo_group\n",
    "    \n",
    "    "
   ]
  },
  {
   "cell_type": "code",
   "execution_count": 54,
   "metadata": {},
   "outputs": [],
   "source": [
    "def number_of_slot_n(speaker_dic,length_u):\n",
    "    number_of_u = 0\n",
    "    for s_d in speaker_dic:\n",
    "        number_of_u = number_of_u + len(s_d)\n",
    "    \n",
    "    number_slot = int(number_of_u - number_of_u%length_u)/length_u\n",
    "    return int(number_slot)"
   ]
  },
  {
   "cell_type": "code",
   "execution_count": 55,
   "metadata": {},
   "outputs": [],
   "source": [
    "def number_of_total_u(speaker_dic):\n",
    "    number_of_u = 0\n",
    "    for s_d in speaker_dic:\n",
    "        number_of_u = number_of_u + len(s_d)\n",
    "    \n",
    "    return number_of_u"
   ]
  },
  {
   "cell_type": "code",
   "execution_count": 56,
   "metadata": {},
   "outputs": [],
   "source": [
    "def get_vo_average_speaker_temporal_n(speaker, speaker_dic, length):\n",
    "    slot_number = number_of_slot_n(speaker_dic, length)\n",
    "    vo_dic_list = []\n",
    "    total_u = 0\n",
    "    \n",
    "    for s in speaker_dic:\n",
    "        total_u = total_u + len(s)\n",
    "    \n",
    "    for i in range(0,slot_number):\n",
    "        vo_dic = get_vo_average_speaker_in_window(speaker,speaker_dic, length*i, length*(i+1))\n",
    "        vo_dic_list.append(vo_dic)\n",
    "        \n",
    "    if total_u > slot_number*length:\n",
    "        vo_dic_end = get_vo_average_speaker_in_window(speaker, speaker_dic, slot_number*length, total_u)\n",
    "        vo_dic_list.append(vo_dic_end)\n",
    "    \n",
    "    return vo_dic_list"
   ]
  },
  {
   "cell_type": "code",
   "execution_count": 57,
   "metadata": {},
   "outputs": [],
   "source": [
    "out1 = extract_speakers_n(df,3)"
   ]
  },
  {
   "cell_type": "code",
   "execution_count": 58,
   "metadata": {},
   "outputs": [],
   "source": [
    "out2 = extract_dialogues_dic_n(out1[0],out1[1])"
   ]
  },
  {
   "cell_type": "code",
   "execution_count": 59,
   "metadata": {},
   "outputs": [
    {
     "name": "stdout",
     "output_type": "stream",
     "text": [
      "{'speaker_number': 2, 'vo_overlap': 802, 'vo_total': 1857, 'total_token_number': 30732, 'overlap': 0.43187937533656434}\n"
     ]
    }
   ],
   "source": [
    "out3 = get_vo(out2[0], out2[1])\n",
    "print(out3)"
   ]
  },
  {
   "cell_type": "code",
   "execution_count": 60,
   "metadata": {},
   "outputs": [
    {
     "name": "stdout",
     "output_type": "stream",
     "text": [
      "{}\n"
     ]
    }
   ],
   "source": [
    "out4 = get_vo_pairwise(out2[0], out2[1])\n",
    "print(out4)"
   ]
  },
  {
   "cell_type": "code",
   "execution_count": 61,
   "metadata": {},
   "outputs": [
    {
     "name": "stdout",
     "output_type": "stream",
     "text": [
      "{'speaker_number': 2, 'vo_overlap': 802, 'vo_total': 1857, 'total_token_number': 30732, 'overlap': 0.43187937533656434}\n"
     ]
    }
   ],
   "source": [
    "out5 = get_vo_average_speaker(out2[0], out2[1])\n",
    "print(out5)"
   ]
  },
  {
   "cell_type": "code",
   "execution_count": 62,
   "metadata": {},
   "outputs": [
    {
     "name": "stdout",
     "output_type": "stream",
     "text": [
      "0.23225806451612904\n",
      "0.34177215189873417\n",
      "0.24444444444444444\n",
      "0.19576719576719576\n",
      "0.26875\n",
      "0.27071823204419887\n",
      "0.24550898203592814\n",
      "0.22549019607843138\n",
      "0.2621951219512195\n",
      "0.2835820895522388\n",
      "0.3048128342245989\n",
      "0.25\n",
      "0.30656934306569344\n",
      "0.2536231884057971\n",
      "0.2746478873239437\n",
      "0.2140468227424749\n",
      "0.12589928057553956\n",
      "0.21348314606741572\n",
      "0.19101123595505617\n",
      "0.2795031055900621\n",
      "0.18095238095238095\n",
      "0.26842105263157895\n",
      "0.21212121212121213\n",
      "0.32061068702290074\n",
      "0.27611940298507465\n",
      "0.2192513368983957\n",
      "0.25\n",
      "0.20418848167539266\n",
      "0.3548387096774194\n",
      "0.08560311284046693\n",
      "0.27710843373493976\n",
      "0.2430939226519337\n",
      "0.18627450980392157\n",
      "0.2640449438202247\n",
      "0.2222222222222222\n",
      "0.27564102564102566\n",
      "0.2733333333333333\n",
      "0.2222222222222222\n",
      "0.1853448275862069\n",
      "0.2796208530805687\n",
      "0.22807017543859648\n",
      "0.25263157894736843\n",
      "0.26277372262773724\n",
      "0.10050251256281408\n",
      "0.26732673267326734\n",
      "0.3197278911564626\n",
      "0.25654450261780104\n",
      "0.3671875\n",
      "0.2550335570469799\n",
      "0.15517241379310345\n",
      "0.27835051546391754\n",
      "0.30113636363636365\n",
      "0.25\n",
      "0.2413793103448276\n",
      "0.14361702127659576\n",
      "0.2185430463576159\n",
      "0.16\n",
      "0.24175824175824176\n",
      "0.25149700598802394\n",
      "0.18888888888888888\n",
      "0.3987341772151899\n",
      "0.19285714285714287\n"
     ]
    }
   ],
   "source": [
    "out6 = get_vo_average_speaker_temporal_n(out2[0], out2[1], 50)\n",
    "for o in out6:\n",
    "    print(o['overlap'])"
   ]
  },
  {
   "cell_type": "code",
   "execution_count": 63,
   "metadata": {},
   "outputs": [
    {
     "name": "stdout",
     "output_type": "stream",
     "text": [
      "622\n"
     ]
    }
   ],
   "source": [
    "import pandas as pd\n",
    "dl = []\n",
    "temporal_vo = []\n",
    "import glob,os\n",
    "path0 = 'tsvfiles/'\n",
    "path = 'vo_calculate/vo_group2_temporal_average_speaker_in_window'\n",
    "files = glob.glob(os.path.join(path0, \"****.tsv\"))\n",
    "print(len(files))\n",
    "for f in files:\n",
    "    dff = spark.read.csv(f, sep=r'\\t', header=False, mode=\"DROPMALFORMED\")\n",
    "    speaker_f = extract_speakers_n(dff,2)\n",
    "    dialogue_dic_f = extract_dialogues_dic_n(speaker_f[0],speaker_f[1])\n",
    "    df_vo_temporal = get_vo_average_speaker_temporal_n(dialogue_dic_f[0],dialogue_dic_f[1],50)\n",
    "    for d in df_vo_temporal:\n",
    "        d['file'] = f[len(f)-8:len(f)]\n",
    "    temporal_vo = pd.DataFrame(df_vo_temporal)\n",
    "    temporal_vo.to_csv(os.path.join(path, f[len(f)-8:len(f)-4]+'.csv'), index = False)"
   ]
  },
  {
   "cell_type": "code",
   "execution_count": 21,
   "metadata": {},
   "outputs": [
    {
     "name": "stdout",
     "output_type": "stream",
     "text": [
      "tsvfiles-3/SW6K.tsv\n"
     ]
    }
   ],
   "source": [
    "print(f)"
   ]
  },
  {
   "cell_type": "code",
   "execution_count": 23,
   "metadata": {},
   "outputs": [
    {
     "name": "stdout",
     "output_type": "stream",
     "text": [
      "2200\n"
     ]
    }
   ],
   "source": [
    "dff = spark.read.csv(f, sep=r'\\t', header=False, mode=\"DROPMALFORMED\")\n",
    "speaker_f = extract_speakers_n(dff,4)\n",
    "dialogue_dic_f = extract_dialogues_dic_n(speaker_f[0],speaker_f[1])\n",
    "print(number_of_total_u(dialogue_dic_f[1]))"
   ]
  },
  {
   "cell_type": "code",
   "execution_count": 123,
   "metadata": {},
   "outputs": [
    {
     "name": "stdout",
     "output_type": "stream",
     "text": [
      "['tsvfiles-3/SWHR.tsv', 'tsvfiles-3/SWSX.tsv', 'tsvfiles-3/SR4E.tsv', 'tsvfiles-3/SK82.tsv', 'tsvfiles-3/SFRW.tsv', 'tsvfiles-3/SDQ8.tsv', 'tsvfiles-3/SVLZ.tsv', 'tsvfiles-3/SX4N.tsv', 'tsvfiles-3/SV5R.tsv', 'tsvfiles-3/SHKZ.tsv', 'tsvfiles-3/SAAF.tsv', 'tsvfiles-3/SA88.tsv', 'tsvfiles-3/S8NX.tsv', 'tsvfiles-3/S8LG.tsv', 'tsvfiles-3/S49V.tsv', 'tsvfiles-3/S4NB.tsv', 'tsvfiles-3/SQP2.tsv', 'tsvfiles-3/SNQD.tsv', 'tsvfiles-3/SE7R.tsv', 'tsvfiles-3/SUJ8.tsv', 'tsvfiles-3/SPC3.tsv', 'tsvfiles-3/SEYD.tsv', 'tsvfiles-3/SGMT.tsv', 'tsvfiles-3/S73U.tsv', 'tsvfiles-3/S2NQ.tsv', 'tsvfiles-3/SPZR.tsv', 'tsvfiles-3/SJH6.tsv', 'tsvfiles-3/S6AZ.tsv', 'tsvfiles-3/SQ36.tsv', 'tsvfiles-3/SHHU.tsv', 'tsvfiles-3/S69V.tsv', 'tsvfiles-3/SVC7.tsv', 'tsvfiles-3/SJRX.tsv', 'tsvfiles-3/SH2P.tsv', 'tsvfiles-3/S8LS.tsv', 'tsvfiles-3/S8X7.tsv', 'tsvfiles-3/S457.tsv', 'tsvfiles-3/SJ2E.tsv', 'tsvfiles-3/STNE.tsv', 'tsvfiles-3/SPYH.tsv', 'tsvfiles-3/SP5V.tsv', 'tsvfiles-3/SN33.tsv', 'tsvfiles-3/S2ZU.tsv', 'tsvfiles-3/SN2R.tsv', 'tsvfiles-3/SP84.tsv', 'tsvfiles-3/S7KK.tsv', 'tsvfiles-3/S527.tsv', 'tsvfiles-3/SUH7.tsv', 'tsvfiles-3/SRL9.tsv', 'tsvfiles-3/SNPP.tsv', 'tsvfiles-3/S4CU.tsv', 'tsvfiles-3/SXUQ.tsv', 'tsvfiles-3/SVLK.tsv', 'tsvfiles-3/SV97.tsv', 'tsvfiles-3/SC67.tsv', 'tsvfiles-3/SM8E.tsv', 'tsvfiles-3/SZ8H.tsv', 'tsvfiles-3/SM6Y.tsv', 'tsvfiles-3/SZ6C.tsv', 'tsvfiles-3/SJ3S.tsv', 'tsvfiles-3/SR8V.tsv', 'tsvfiles-3/SR87.tsv', 'tsvfiles-3/S26N.tsv', 'tsvfiles-3/SEL5.tsv', 'tsvfiles-3/S2W4.tsv', 'tsvfiles-3/SE88.tsv', 'tsvfiles-3/S24D.tsv', 'tsvfiles-3/S46J.tsv', 'tsvfiles-3/SC8H.tsv', 'tsvfiles-3/SM8P.tsv', 'tsvfiles-3/STB7.tsv', 'tsvfiles-3/SVZE.tsv', 'tsvfiles-3/ST7J.tsv', 'tsvfiles-3/SVLH.tsv', 'tsvfiles-3/S6AK.tsv', 'tsvfiles-3/S69G.tsv', 'tsvfiles-3/SAAB.tsv', 'tsvfiles-3/SQ3P.tsv', 'tsvfiles-3/SVN7.tsv', 'tsvfiles-3/SMNV.tsv', 'tsvfiles-3/S4L9.tsv', 'tsvfiles-3/ST82.tsv', 'tsvfiles-3/SCNN.tsv', 'tsvfiles-3/S24E.tsv', 'tsvfiles-3/S7GJ.tsv', 'tsvfiles-3/SUWQ.tsv', 'tsvfiles-3/S78E.tsv', 'tsvfiles-3/SKEG.tsv', 'tsvfiles-3/SU8C.tsv', 'tsvfiles-3/SKJH.tsv', 'tsvfiles-3/SHZP.tsv', 'tsvfiles-3/STKH.tsv', 'tsvfiles-3/SD65.tsv', 'tsvfiles-3/S6PD.tsv', 'tsvfiles-3/STQF.tsv', 'tsvfiles-3/SHC3.tsv', 'tsvfiles-3/SJW4.tsv', 'tsvfiles-3/S8K6.tsv', 'tsvfiles-3/SQNA.tsv', 'tsvfiles-3/SDAA.tsv', 'tsvfiles-3/SMKK.tsv', 'tsvfiles-3/SHX8.tsv', 'tsvfiles-3/S8RU.tsv', 'tsvfiles-3/S3C6.tsv', 'tsvfiles-3/SJB4.tsv', 'tsvfiles-3/SQWC.tsv', 'tsvfiles-3/S5MM.tsv', 'tsvfiles-3/SUNR.tsv', 'tsvfiles-3/SW6K.tsv', 'tsvfiles-3/S9B9.tsv', 'tsvfiles-3/SES2.tsv', 'tsvfiles-3/S5XL.tsv', 'tsvfiles-3/SNBD.tsv', 'tsvfiles-3/S5B6.tsv', 'tsvfiles-3/S555.tsv', 'tsvfiles-3/SRHV.tsv', 'tsvfiles-3/S59W.tsv', 'tsvfiles-3/S839.tsv', 'tsvfiles-3/SDXW.tsv', 'tsvfiles-3/SVKH.tsv', 'tsvfiles-3/SDAB.tsv', 'tsvfiles-3/SZJ7.tsv', 'tsvfiles-3/SXRR.tsv', 'tsvfiles-3/SBCL.tsv', 'tsvfiles-3/SUC7.tsv', 'tsvfiles-3/S9CH.tsv', 'tsvfiles-3/S75W.tsv', 'tsvfiles-3/SP3F.tsv', 'tsvfiles-3/S2QU.tsv', 'tsvfiles-3/S9UA.tsv', 'tsvfiles-3/SQVW.tsv', 'tsvfiles-3/S3A9.tsv', 'tsvfiles-3/S3CP.tsv', 'tsvfiles-3/S38P.tsv', 'tsvfiles-3/SQ93.tsv', 'tsvfiles-3/SZQ9.tsv', 'tsvfiles-3/SZFG.tsv', 'tsvfiles-3/SASQ.tsv', 'tsvfiles-3/SWTX.tsv', 'tsvfiles-3/SK3P.tsv', 'tsvfiles-3/SGGE.tsv', 'tsvfiles-3/S74A.tsv', 'tsvfiles-3/SYA7.tsv', 'tsvfiles-3/SNZS.tsv', 'tsvfiles-3/S7WR.tsv', 'tsvfiles-3/S2JK.tsv', 'tsvfiles-3/SR3P.tsv', 'tsvfiles-3/S37K.tsv', 'tsvfiles-3/SHXJ.tsv', 'tsvfiles-3/SFXE.tsv', 'tsvfiles-3/SDTD.tsv', 'tsvfiles-3/SCSF.tsv', 'tsvfiles-3/SVD6.tsv', 'tsvfiles-3/SVD7.tsv', 'tsvfiles-3/SMH4.tsv', 'tsvfiles-3/SLNB.tsv', 'tsvfiles-3/SKDP.tsv', 'tsvfiles-3/SEJT.tsv', 'tsvfiles-3/SK3S.tsv', 'tsvfiles-3/S2PS.tsv', 'tsvfiles-3/S5U8.tsv', 'tsvfiles-3/S985.tsv', 'tsvfiles-3/S5XD.tsv', 'tsvfiles-3/SWWZ.tsv', 'tsvfiles-3/SUAB.tsv', 'tsvfiles-3/SYWB.tsv', 'tsvfiles-3/SCG9.tsv', 'tsvfiles-3/STDN.tsv', 'tsvfiles-3/S4KE.tsv', 'tsvfiles-3/SXGX.tsv', 'tsvfiles-3/SMRV.tsv', 'tsvfiles-3/SDZC.tsv', 'tsvfiles-3/SVDM.tsv', 'tsvfiles-3/SQBK.tsv', 'tsvfiles-3/SF7M.tsv', 'tsvfiles-3/SDUM.tsv', 'tsvfiles-3/SXR9.tsv', 'tsvfiles-3/SVR6.tsv', 'tsvfiles-3/STJD.tsv', 'tsvfiles-3/SRGR.tsv', 'tsvfiles-3/SGFN.tsv', 'tsvfiles-3/SN8K.tsv', 'tsvfiles-3/SNAC.tsv', 'tsvfiles-3/SN64.tsv', 'tsvfiles-3/S776.tsv', 'tsvfiles-3/SWLS.tsv', 'tsvfiles-3/SLT4.tsv', 'tsvfiles-3/SYNT.tsv', 'tsvfiles-3/SP2Y.tsv', 'tsvfiles-3/SBNC.tsv', 'tsvfiles-3/SNYG.tsv', 'tsvfiles-3/SE2A.tsv', 'tsvfiles-3/S3CK.tsv', 'tsvfiles-3/S8Q3.tsv', 'tsvfiles-3/SQU6.tsv', 'tsvfiles-3/STG7.tsv', 'tsvfiles-3/STSS.tsv', 'tsvfiles-3/SCPR.tsv', 'tsvfiles-3/SXH5.tsv', 'tsvfiles-3/SFMJ.tsv', 'tsvfiles-3/SX3B.tsv', 'tsvfiles-3/SHBJ.tsv', 'tsvfiles-3/SXQ6.tsv', 'tsvfiles-3/S8PW.tsv', 'tsvfiles-3/SHX2.tsv', 'tsvfiles-3/SJ4X.tsv', 'tsvfiles-3/S37E.tsv', 'tsvfiles-3/SYTL.tsv', 'tsvfiles-3/S575.tsv', 'tsvfiles-3/SW6A.tsv', 'tsvfiles-3/SP2X.tsv', 'tsvfiles-3/S79Y.tsv', 'tsvfiles-3/S57G.tsv', 'tsvfiles-3/SL8N.tsv', 'tsvfiles-3/S7TT.tsv', 'tsvfiles-3/S2JV.tsv', 'tsvfiles-3/SE3W.tsv', 'tsvfiles-3/SXPW.tsv', 'tsvfiles-3/SFC2.tsv', 'tsvfiles-3/SH8K.tsv', 'tsvfiles-3/SF8D.tsv', 'tsvfiles-3/SH6W.tsv', 'tsvfiles-3/S6GC.tsv', 'tsvfiles-3/SMF5.tsv', 'tsvfiles-3/SVRQ.tsv', 'tsvfiles-3/SZ2V.tsv', 'tsvfiles-3/SU6F.tsv', 'tsvfiles-3/SKKB.tsv', 'tsvfiles-3/S2PY.tsv', 'tsvfiles-3/SY4A.tsv', 'tsvfiles-3/SBZW.tsv', 'tsvfiles-3/S2RD.tsv', 'tsvfiles-3/SEJK.tsv', 'tsvfiles-3/SJA5.tsv', 'tsvfiles-3/SHTW.tsv', 'tsvfiles-3/S4KW.tsv', 'tsvfiles-3/S83A.tsv', 'tsvfiles-3/SZP6.tsv', 'tsvfiles-3/SADE.tsv', 'tsvfiles-3/SKJ3.tsv', 'tsvfiles-3/SBBP.tsv', 'tsvfiles-3/S2GS.tsv', 'tsvfiles-3/SKRC.tsv', 'tsvfiles-3/S78H.tsv', 'tsvfiles-3/SKZX.tsv', 'tsvfiles-3/SG7X.tsv', 'tsvfiles-3/S7SU.tsv', 'tsvfiles-3/S2LD.tsv', 'tsvfiles-3/SUGV.tsv', 'tsvfiles-3/SUDM.tsv', 'tsvfiles-3/SJEM.tsv', 'tsvfiles-3/S6YA.tsv', 'tsvfiles-3/SZ94.tsv', 'tsvfiles-3/SZNA.tsv', 'tsvfiles-3/SVAT.tsv', 'tsvfiles-3/SF2C.tsv', 'tsvfiles-3/S8CW.tsv', 'tsvfiles-3/S4T3.tsv', 'tsvfiles-3/SCWW.tsv', 'tsvfiles-3/SXAZ.tsv', 'tsvfiles-3/S49H.tsv', 'tsvfiles-3/SDJL.tsv', 'tsvfiles-3/S8W2.tsv', 'tsvfiles-3/SG78.tsv', 'tsvfiles-3/S2TC.tsv', 'tsvfiles-3/SNJP.tsv', 'tsvfiles-3/SGCA.tsv', 'tsvfiles-3/SG5Q.tsv', 'tsvfiles-3/SUQM.tsv', 'tsvfiles-3/SNG4.tsv', 'tsvfiles-3/SRU7.tsv', 'tsvfiles-3/SBSJ.tsv', 'tsvfiles-3/S9F9.tsv', 'tsvfiles-3/SYHW.tsv', 'tsvfiles-3/SKCY.tsv', 'tsvfiles-3/S7PM.tsv', 'tsvfiles-3/SR7C.tsv', 'tsvfiles-3/SK8N.tsv', 'tsvfiles-3/SJSC.tsv', 'tsvfiles-3/SAB7.tsv', 'tsvfiles-3/S8BQ.tsv', 'tsvfiles-3/SQ2L.tsv', 'tsvfiles-3/S6MQ.tsv', 'tsvfiles-3/S8CB.tsv', 'tsvfiles-3/SHGE.tsv', 'tsvfiles-3/SCWC.tsv', 'tsvfiles-3/S3JF.tsv', 'tsvfiles-3/SJKD.tsv', 'tsvfiles-3/SQPN.tsv', 'tsvfiles-3/S7RD.tsv', 'tsvfiles-3/SP62.tsv', 'tsvfiles-3/S2T6.tsv', 'tsvfiles-3/SKY7.tsv', 'tsvfiles-3/SYFN.tsv', 'tsvfiles-3/SJG5.tsv', 'tsvfiles-3/SZNG.tsv', 'tsvfiles-3/SXCB.tsv', 'tsvfiles-3/SXNE.tsv', 'tsvfiles-3/SF3V.tsv', 'tsvfiles-3/SA6K.tsv', 'tsvfiles-3/SJSQ.tsv', 'tsvfiles-3/S3SA.tsv', 'tsvfiles-3/ST6R.tsv', 'tsvfiles-3/SDHB.tsv', 'tsvfiles-3/S3GS.tsv', 'tsvfiles-3/SKMV.tsv', 'tsvfiles-3/SB32.tsv', 'tsvfiles-3/S7RA.tsv', 'tsvfiles-3/SKBN.tsv', 'tsvfiles-3/SBKH.tsv', 'tsvfiles-3/SRX4.tsv', 'tsvfiles-3/S7JG.tsv', 'tsvfiles-3/SKY2.tsv', 'tsvfiles-3/SKYQ.tsv', 'tsvfiles-3/S9D7.tsv', 'tsvfiles-3/SPTA.tsv', 'tsvfiles-3/S539.tsv', 'tsvfiles-3/SVUC.tsv', 'tsvfiles-3/SMME.tsv', 'tsvfiles-3/S66A.tsv', 'tsvfiles-3/SHJE.tsv', 'tsvfiles-3/SF2Q.tsv', 'tsvfiles-3/S3SU.tsv', 'tsvfiles-3/S84P.tsv', 'tsvfiles-3/S6A5.tsv', 'tsvfiles-3/SXC6.tsv', 'tsvfiles-3/S64H.tsv', 'tsvfiles-3/S6UQ.tsv', 'tsvfiles-3/SD2R.tsv', 'tsvfiles-3/SXWR.tsv', 'tsvfiles-3/SJDM.tsv', 'tsvfiles-3/SQPH.tsv', 'tsvfiles-3/S7JS.tsv', 'tsvfiles-3/SP9Z.tsv']\n"
     ]
    },
    {
     "ename": "KeyboardInterrupt",
     "evalue": "",
     "output_type": "error",
     "traceback": [
      "\u001b[0;31m---------------------------------------------------------------------------\u001b[0m",
      "\u001b[0;31mKeyboardInterrupt\u001b[0m                         Traceback (most recent call last)",
      "\u001b[0;32m<ipython-input-123-a09ea462012f>\u001b[0m in \u001b[0;36m<module>\u001b[0;34m\u001b[0m\n\u001b[1;32m      8\u001b[0m \u001b[0;32mfor\u001b[0m \u001b[0mf\u001b[0m \u001b[0;32min\u001b[0m \u001b[0mfiles\u001b[0m\u001b[0;34m:\u001b[0m\u001b[0;34m\u001b[0m\u001b[0;34m\u001b[0m\u001b[0m\n\u001b[1;32m      9\u001b[0m     \u001b[0mdff\u001b[0m \u001b[0;34m=\u001b[0m \u001b[0mspark\u001b[0m\u001b[0;34m.\u001b[0m\u001b[0mread\u001b[0m\u001b[0;34m.\u001b[0m\u001b[0mcsv\u001b[0m\u001b[0;34m(\u001b[0m\u001b[0mf\u001b[0m\u001b[0;34m,\u001b[0m \u001b[0msep\u001b[0m\u001b[0;34m=\u001b[0m\u001b[0;34mr'\\t'\u001b[0m\u001b[0;34m,\u001b[0m \u001b[0mheader\u001b[0m\u001b[0;34m=\u001b[0m\u001b[0;32mFalse\u001b[0m\u001b[0;34m,\u001b[0m \u001b[0mmode\u001b[0m\u001b[0;34m=\u001b[0m\u001b[0;34m\"DROPMALFORMED\"\u001b[0m\u001b[0;34m)\u001b[0m\u001b[0;34m\u001b[0m\u001b[0;34m\u001b[0m\u001b[0m\n\u001b[0;32m---> 10\u001b[0;31m     \u001b[0mspeaker_f\u001b[0m \u001b[0;34m=\u001b[0m \u001b[0mextract_speakers_n\u001b[0m\u001b[0;34m(\u001b[0m\u001b[0mdff\u001b[0m\u001b[0;34m,\u001b[0m\u001b[0;36m3\u001b[0m\u001b[0;34m)\u001b[0m\u001b[0;34m\u001b[0m\u001b[0;34m\u001b[0m\u001b[0m\n\u001b[0m\u001b[1;32m     11\u001b[0m     \u001b[0mdialogue_dic_f\u001b[0m \u001b[0;34m=\u001b[0m \u001b[0mextract_dialogues_dic_n\u001b[0m\u001b[0;34m(\u001b[0m\u001b[0mspeaker_f\u001b[0m\u001b[0;34m[\u001b[0m\u001b[0;36m0\u001b[0m\u001b[0;34m]\u001b[0m\u001b[0;34m,\u001b[0m\u001b[0mspeaker_f\u001b[0m\u001b[0;34m[\u001b[0m\u001b[0;36m1\u001b[0m\u001b[0;34m]\u001b[0m\u001b[0;34m)\u001b[0m\u001b[0;34m\u001b[0m\u001b[0;34m\u001b[0m\u001b[0m\n\u001b[1;32m     12\u001b[0m     \u001b[0mdf_vo\u001b[0m \u001b[0;34m=\u001b[0m \u001b[0mget_vo_average_speaker\u001b[0m\u001b[0;34m(\u001b[0m\u001b[0mdialogue_dic_f\u001b[0m\u001b[0;34m[\u001b[0m\u001b[0;36m0\u001b[0m\u001b[0;34m]\u001b[0m\u001b[0;34m,\u001b[0m\u001b[0mdialogue_dic_f\u001b[0m\u001b[0;34m[\u001b[0m\u001b[0;36m1\u001b[0m\u001b[0;34m]\u001b[0m\u001b[0;34m)\u001b[0m\u001b[0;34m\u001b[0m\u001b[0;34m\u001b[0m\u001b[0m\n",
      "\u001b[0;32m<ipython-input-113-59b4dd84fd1d>\u001b[0m in \u001b[0;36mextract_speakers_n\u001b[0;34m(df1, n)\u001b[0m\n\u001b[1;32m      1\u001b[0m \u001b[0;32mdef\u001b[0m \u001b[0mextract_speakers_n\u001b[0m\u001b[0;34m(\u001b[0m\u001b[0mdf1\u001b[0m\u001b[0;34m,\u001b[0m \u001b[0mn\u001b[0m\u001b[0;34m)\u001b[0m\u001b[0;34m:\u001b[0m\u001b[0;34m\u001b[0m\u001b[0;34m\u001b[0m\u001b[0m\n\u001b[0;32m----> 2\u001b[0;31m     \u001b[0mdataC\u001b[0m \u001b[0;34m=\u001b[0m \u001b[0mdf1\u001b[0m\u001b[0;34m.\u001b[0m\u001b[0mcollect\u001b[0m\u001b[0;34m(\u001b[0m\u001b[0;34m)\u001b[0m\u001b[0;34m\u001b[0m\u001b[0;34m\u001b[0m\u001b[0m\n\u001b[0m\u001b[1;32m      3\u001b[0m     \u001b[0mspeaker\u001b[0m \u001b[0;34m=\u001b[0m \u001b[0;34m[\u001b[0m\u001b[0mdataC\u001b[0m\u001b[0;34m[\u001b[0m\u001b[0;36m0\u001b[0m\u001b[0;34m]\u001b[0m\u001b[0;34m[\u001b[0m\u001b[0;36m0\u001b[0m\u001b[0;34m]\u001b[0m\u001b[0;34m]\u001b[0m\u001b[0;34m\u001b[0m\u001b[0;34m\u001b[0m\u001b[0m\n\u001b[1;32m      4\u001b[0m     \u001b[0;32mfor\u001b[0m \u001b[0mrow\u001b[0m \u001b[0;32min\u001b[0m \u001b[0mdataC\u001b[0m\u001b[0;34m:\u001b[0m\u001b[0;34m\u001b[0m\u001b[0;34m\u001b[0m\u001b[0m\n\u001b[1;32m      5\u001b[0m         \u001b[0;32mif\u001b[0m \u001b[0mrow\u001b[0m\u001b[0;34m[\u001b[0m\u001b[0;36m0\u001b[0m\u001b[0;34m]\u001b[0m \u001b[0;32mnot\u001b[0m \u001b[0;32min\u001b[0m \u001b[0mspeaker\u001b[0m\u001b[0;34m:\u001b[0m\u001b[0;34m\u001b[0m\u001b[0;34m\u001b[0m\u001b[0m\n",
      "\u001b[0;32m/usr/local/Cellar/apache-spark/3.0.1/libexec/python/pyspark/sql/dataframe.py\u001b[0m in \u001b[0;36mcollect\u001b[0;34m(self)\u001b[0m\n\u001b[1;32m    594\u001b[0m         \"\"\"\n\u001b[1;32m    595\u001b[0m         \u001b[0;32mwith\u001b[0m \u001b[0mSCCallSiteSync\u001b[0m\u001b[0;34m(\u001b[0m\u001b[0mself\u001b[0m\u001b[0;34m.\u001b[0m\u001b[0m_sc\u001b[0m\u001b[0;34m)\u001b[0m \u001b[0;32mas\u001b[0m \u001b[0mcss\u001b[0m\u001b[0;34m:\u001b[0m\u001b[0;34m\u001b[0m\u001b[0;34m\u001b[0m\u001b[0m\n\u001b[0;32m--> 596\u001b[0;31m             \u001b[0msock_info\u001b[0m \u001b[0;34m=\u001b[0m \u001b[0mself\u001b[0m\u001b[0;34m.\u001b[0m\u001b[0m_jdf\u001b[0m\u001b[0;34m.\u001b[0m\u001b[0mcollectToPython\u001b[0m\u001b[0;34m(\u001b[0m\u001b[0;34m)\u001b[0m\u001b[0;34m\u001b[0m\u001b[0;34m\u001b[0m\u001b[0m\n\u001b[0m\u001b[1;32m    597\u001b[0m         \u001b[0;32mreturn\u001b[0m \u001b[0mlist\u001b[0m\u001b[0;34m(\u001b[0m\u001b[0m_load_from_socket\u001b[0m\u001b[0;34m(\u001b[0m\u001b[0msock_info\u001b[0m\u001b[0;34m,\u001b[0m \u001b[0mBatchedSerializer\u001b[0m\u001b[0;34m(\u001b[0m\u001b[0mPickleSerializer\u001b[0m\u001b[0;34m(\u001b[0m\u001b[0;34m)\u001b[0m\u001b[0;34m)\u001b[0m\u001b[0;34m)\u001b[0m\u001b[0;34m)\u001b[0m\u001b[0;34m\u001b[0m\u001b[0;34m\u001b[0m\u001b[0m\n\u001b[1;32m    598\u001b[0m \u001b[0;34m\u001b[0m\u001b[0m\n",
      "\u001b[0;32m/usr/local/Cellar/apache-spark/3.0.1/libexec/python/lib/py4j-0.10.9-src.zip/py4j/java_gateway.py\u001b[0m in \u001b[0;36m__call__\u001b[0;34m(self, *args)\u001b[0m\n\u001b[1;32m   1301\u001b[0m             \u001b[0mproto\u001b[0m\u001b[0;34m.\u001b[0m\u001b[0mEND_COMMAND_PART\u001b[0m\u001b[0;34m\u001b[0m\u001b[0;34m\u001b[0m\u001b[0m\n\u001b[1;32m   1302\u001b[0m \u001b[0;34m\u001b[0m\u001b[0m\n\u001b[0;32m-> 1303\u001b[0;31m         \u001b[0manswer\u001b[0m \u001b[0;34m=\u001b[0m \u001b[0mself\u001b[0m\u001b[0;34m.\u001b[0m\u001b[0mgateway_client\u001b[0m\u001b[0;34m.\u001b[0m\u001b[0msend_command\u001b[0m\u001b[0;34m(\u001b[0m\u001b[0mcommand\u001b[0m\u001b[0;34m)\u001b[0m\u001b[0;34m\u001b[0m\u001b[0;34m\u001b[0m\u001b[0m\n\u001b[0m\u001b[1;32m   1304\u001b[0m         return_value = get_return_value(\n\u001b[1;32m   1305\u001b[0m             answer, self.gateway_client, self.target_id, self.name)\n",
      "\u001b[0;32m/usr/local/Cellar/apache-spark/3.0.1/libexec/python/lib/py4j-0.10.9-src.zip/py4j/java_gateway.py\u001b[0m in \u001b[0;36msend_command\u001b[0;34m(self, command, retry, binary)\u001b[0m\n\u001b[1;32m   1031\u001b[0m         \u001b[0mconnection\u001b[0m \u001b[0;34m=\u001b[0m \u001b[0mself\u001b[0m\u001b[0;34m.\u001b[0m\u001b[0m_get_connection\u001b[0m\u001b[0;34m(\u001b[0m\u001b[0;34m)\u001b[0m\u001b[0;34m\u001b[0m\u001b[0;34m\u001b[0m\u001b[0m\n\u001b[1;32m   1032\u001b[0m         \u001b[0;32mtry\u001b[0m\u001b[0;34m:\u001b[0m\u001b[0;34m\u001b[0m\u001b[0;34m\u001b[0m\u001b[0m\n\u001b[0;32m-> 1033\u001b[0;31m             \u001b[0mresponse\u001b[0m \u001b[0;34m=\u001b[0m \u001b[0mconnection\u001b[0m\u001b[0;34m.\u001b[0m\u001b[0msend_command\u001b[0m\u001b[0;34m(\u001b[0m\u001b[0mcommand\u001b[0m\u001b[0;34m)\u001b[0m\u001b[0;34m\u001b[0m\u001b[0;34m\u001b[0m\u001b[0m\n\u001b[0m\u001b[1;32m   1034\u001b[0m             \u001b[0;32mif\u001b[0m \u001b[0mbinary\u001b[0m\u001b[0;34m:\u001b[0m\u001b[0;34m\u001b[0m\u001b[0;34m\u001b[0m\u001b[0m\n\u001b[1;32m   1035\u001b[0m                 \u001b[0;32mreturn\u001b[0m \u001b[0mresponse\u001b[0m\u001b[0;34m,\u001b[0m \u001b[0mself\u001b[0m\u001b[0;34m.\u001b[0m\u001b[0m_create_connection_guard\u001b[0m\u001b[0;34m(\u001b[0m\u001b[0mconnection\u001b[0m\u001b[0;34m)\u001b[0m\u001b[0;34m\u001b[0m\u001b[0;34m\u001b[0m\u001b[0m\n",
      "\u001b[0;32m/usr/local/Cellar/apache-spark/3.0.1/libexec/python/lib/py4j-0.10.9-src.zip/py4j/java_gateway.py\u001b[0m in \u001b[0;36msend_command\u001b[0;34m(self, command)\u001b[0m\n\u001b[1;32m   1198\u001b[0m \u001b[0;34m\u001b[0m\u001b[0m\n\u001b[1;32m   1199\u001b[0m         \u001b[0;32mtry\u001b[0m\u001b[0;34m:\u001b[0m\u001b[0;34m\u001b[0m\u001b[0;34m\u001b[0m\u001b[0m\n\u001b[0;32m-> 1200\u001b[0;31m             \u001b[0manswer\u001b[0m \u001b[0;34m=\u001b[0m \u001b[0msmart_decode\u001b[0m\u001b[0;34m(\u001b[0m\u001b[0mself\u001b[0m\u001b[0;34m.\u001b[0m\u001b[0mstream\u001b[0m\u001b[0;34m.\u001b[0m\u001b[0mreadline\u001b[0m\u001b[0;34m(\u001b[0m\u001b[0;34m)\u001b[0m\u001b[0;34m[\u001b[0m\u001b[0;34m:\u001b[0m\u001b[0;34m-\u001b[0m\u001b[0;36m1\u001b[0m\u001b[0;34m]\u001b[0m\u001b[0;34m)\u001b[0m\u001b[0;34m\u001b[0m\u001b[0;34m\u001b[0m\u001b[0m\n\u001b[0m\u001b[1;32m   1201\u001b[0m             \u001b[0mlogger\u001b[0m\u001b[0;34m.\u001b[0m\u001b[0mdebug\u001b[0m\u001b[0;34m(\u001b[0m\u001b[0;34m\"Answer received: {0}\"\u001b[0m\u001b[0;34m.\u001b[0m\u001b[0mformat\u001b[0m\u001b[0;34m(\u001b[0m\u001b[0manswer\u001b[0m\u001b[0;34m)\u001b[0m\u001b[0;34m)\u001b[0m\u001b[0;34m\u001b[0m\u001b[0;34m\u001b[0m\u001b[0m\n\u001b[1;32m   1202\u001b[0m             \u001b[0;32mif\u001b[0m \u001b[0manswer\u001b[0m\u001b[0;34m.\u001b[0m\u001b[0mstartswith\u001b[0m\u001b[0;34m(\u001b[0m\u001b[0mproto\u001b[0m\u001b[0;34m.\u001b[0m\u001b[0mRETURN_MESSAGE\u001b[0m\u001b[0;34m)\u001b[0m\u001b[0;34m:\u001b[0m\u001b[0;34m\u001b[0m\u001b[0;34m\u001b[0m\u001b[0m\n",
      "\u001b[0;32m/opt/anaconda3/lib/python3.7/socket.py\u001b[0m in \u001b[0;36mreadinto\u001b[0;34m(self, b)\u001b[0m\n\u001b[1;32m    587\u001b[0m         \u001b[0;32mwhile\u001b[0m \u001b[0;32mTrue\u001b[0m\u001b[0;34m:\u001b[0m\u001b[0;34m\u001b[0m\u001b[0;34m\u001b[0m\u001b[0m\n\u001b[1;32m    588\u001b[0m             \u001b[0;32mtry\u001b[0m\u001b[0;34m:\u001b[0m\u001b[0;34m\u001b[0m\u001b[0;34m\u001b[0m\u001b[0m\n\u001b[0;32m--> 589\u001b[0;31m                 \u001b[0;32mreturn\u001b[0m \u001b[0mself\u001b[0m\u001b[0;34m.\u001b[0m\u001b[0m_sock\u001b[0m\u001b[0;34m.\u001b[0m\u001b[0mrecv_into\u001b[0m\u001b[0;34m(\u001b[0m\u001b[0mb\u001b[0m\u001b[0;34m)\u001b[0m\u001b[0;34m\u001b[0m\u001b[0;34m\u001b[0m\u001b[0m\n\u001b[0m\u001b[1;32m    590\u001b[0m             \u001b[0;32mexcept\u001b[0m \u001b[0mtimeout\u001b[0m\u001b[0;34m:\u001b[0m\u001b[0;34m\u001b[0m\u001b[0;34m\u001b[0m\u001b[0m\n\u001b[1;32m    591\u001b[0m                 \u001b[0mself\u001b[0m\u001b[0;34m.\u001b[0m\u001b[0m_timeout_occurred\u001b[0m \u001b[0;34m=\u001b[0m \u001b[0;32mTrue\u001b[0m\u001b[0;34m\u001b[0m\u001b[0;34m\u001b[0m\u001b[0m\n",
      "\u001b[0;31mKeyboardInterrupt\u001b[0m: "
     ]
    }
   ],
   "source": [
    "import pandas as pd\n",
    "dl = []\n",
    "import glob,os\n",
    "path0 = 'tsvfiles-3/'\n",
    "path = 'vo_calculate/'\n",
    "files = glob.glob(os.path.join(path0, \"****.tsv\"))\n",
    "print(files)\n",
    "for f in files:\n",
    "    dff = spark.read.csv(f, sep=r'\\t', header=False, mode=\"DROPMALFORMED\")\n",
    "    speaker_f = extract_speakers_n(dff,3)\n",
    "    dialogue_dic_f = extract_dialogues_dic_n(speaker_f[0],speaker_f[1])\n",
    "    df_vo = get_vo_average_speaker(dialogue_dic_f[0],dialogue_dic_f[1])\n",
    "    df_vo['file'] = f[len(f)-8:len(f)]\n",
    "    dl.append(df_vo)\n",
    "\n",
    "dl_s = pd.DataFrame(dl)\n",
    "dl_s.to_csv(os.path.join(path,'vo_group_average_speaker_3.csv'), index = False)\n"
   ]
  },
  {
   "cell_type": "code",
   "execution_count": null,
   "metadata": {},
   "outputs": [],
   "source": []
  }
 ],
 "metadata": {
  "kernelspec": {
   "display_name": "Python 3",
   "language": "python",
   "name": "python3"
  },
  "language_info": {
   "codemirror_mode": {
    "name": "ipython",
    "version": 3
   },
   "file_extension": ".py",
   "mimetype": "text/x-python",
   "name": "python",
   "nbconvert_exporter": "python",
   "pygments_lexer": "ipython3",
   "version": "3.7.6"
  }
 },
 "nbformat": 4,
 "nbformat_minor": 4
}

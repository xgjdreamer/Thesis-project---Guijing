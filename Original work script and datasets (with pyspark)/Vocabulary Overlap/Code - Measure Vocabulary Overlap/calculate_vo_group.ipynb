{
 "cells": [
  {
   "cell_type": "code",
   "execution_count": 9,
   "metadata": {},
   "outputs": [],
   "source": [
    "from pyspark import SparkContext\n",
    "from pyspark.sql.session import SparkSession\n",
    "import copy\n",
    "sc.stop()\n",
    "sc = SparkContext('local')\n",
    "spark = SparkSession(sc)"
   ]
  },
  {
   "cell_type": "code",
   "execution_count": 10,
   "metadata": {},
   "outputs": [
    {
     "name": "stdout",
     "output_type": "stream",
     "text": [
      "S0558,well i vote out and then when you you know when you've do it and er\n",
      "S0517,do vote out\n",
      "S0558,yeah\n",
      "S0517,yeah\n",
      "S0558,and i think have this feel you know on occasion i've have these feel and i think oh i dunno if i've do the right thing\n"
     ]
    }
   ],
   "source": [
    "import os,glob\n",
    "path0 = 'tsvfiles/'\n",
    "df = spark.read.csv(\n",
    "    os.path.join(path0,\"SUNM.tsv\"), sep=r'\\t', header=False, mode=\"DROPMALFORMED\")\n",
    "\n",
    "dataColl=df.collect()\n",
    "for row in dataColl[0:5]:\n",
    "    print(row[0] + \",\" +str(row[1]))"
   ]
  },
  {
   "cell_type": "code",
   "execution_count": 11,
   "metadata": {},
   "outputs": [
    {
     "name": "stdout",
     "output_type": "stream",
     "text": [
      "2026\n"
     ]
    }
   ],
   "source": [
    "import xmltodict\n",
    "def extract_time(f):\n",
    "    with open(f) as fd:\n",
    "        doc = xmltodict.parse(fd.read())\n",
    "    s_time = doc['text']['header']['rec_length']\n",
    "    s_seconds = (int(s_time[0])*3600)+ (int(s_time[2])*10+int(s_time[3]))*60 + int(s_time[5])*10+int(s_time[6])\n",
    "    return s_seconds\n",
    "\n",
    "s = extract_time('S376.xml')\n",
    "print(s)"
   ]
  },
  {
   "cell_type": "code",
   "execution_count": 12,
   "metadata": {},
   "outputs": [],
   "source": [
    "def extract_speakers_n(df1, n):\n",
    "    dataC = df1.collect()\n",
    "    speaker = [dataC[0][0]]\n",
    "    for row in dataC:\n",
    "        if row[0] not in speaker:\n",
    "            speaker.append(row[0])\n",
    "        if len(speaker) == n:\n",
    "            break\n",
    "    #rdd1 = rdd1.rdd\n",
    "    return df1, speaker"
   ]
  },
  {
   "cell_type": "code",
   "execution_count": 13,
   "metadata": {},
   "outputs": [],
   "source": [
    "def extract_dialogues_dic_n(rdd1, speaker):\n",
    "    n = len(speaker)\n",
    "    dataC = rdd1.collect()\n",
    "    speaker_dic = [{} for x in range(0,n)]\n",
    "    \n",
    "    \n",
    "    for i in range(0,len(dataC)):\n",
    "        if dataC[i][0] in speaker:\n",
    "            p = speaker.index(dataC[i][0])\n",
    "            if dataC[i][1]!=None:\n",
    "                speaker_dic[p][i] = dataC[i][1].split()\n",
    "    \n",
    "    return speaker, speaker_dic"
   ]
  },
  {
   "cell_type": "code",
   "execution_count": 14,
   "metadata": {},
   "outputs": [],
   "source": [
    "def get_vo(speaker, speaker_dic):\n",
    "    n = len(speaker)\n",
    "    voand = []\n",
    "    voor = []\n",
    "    speaker_vo = [[] for x in range(0,n)]\n",
    "    vo_group = {}\n",
    "    token_n = 0\n",
    "    \n",
    "    for i in range(0,n):\n",
    "        for k,tokens in speaker_dic[i].items():\n",
    "            \n",
    "            for token in tokens:\n",
    "                token_n = token_n+1\n",
    "                if token not in voor:\n",
    "                    voor.append(token)\n",
    "                if token not in speaker_vo[i]:\n",
    "                    speaker_vo[i].append(token)\n",
    "    \n",
    "    countand = 0\n",
    "    if n==2:\n",
    "        for token0 in speaker_vo[0]:\n",
    "            if token0 in speaker_vo[1]:\n",
    "                countand = countand+1\n",
    "    if n==3:\n",
    "        for token0 in speaker_vo[0]:\n",
    "            if (token0 in speaker_vo[1]) and (token0 in speaker_vo[2]):\n",
    "                countand = countand+1\n",
    "    if n==4:\n",
    "        for token0 in speaker_vo[0]:\n",
    "            if (token0 in speaker_vo[1]) and (token0 in speaker_vo[2]) and (token0 in speaker_vo[3]):\n",
    "                countand = countand+1\n",
    "    countor = len(voor)\n",
    "    overlap = countand/countor\n",
    "    vo_group = {\"speaker_number\": n, \"vo_overlap\": countand, \"vo_total\": countor, \"total_token_number\":token_n, \"overlap\": overlap} \n",
    "    return vo_group\n",
    "            "
   ]
  },
  {
   "cell_type": "code",
   "execution_count": 15,
   "metadata": {},
   "outputs": [],
   "source": [
    "def get_vo_pairwise(speaker, speaker_dic):\n",
    "    n = len(speaker)\n",
    "    voand = []\n",
    "    voor = []\n",
    "    speaker_vo = [[] for x in range(0,n)]\n",
    "    vo_group = {}\n",
    "    token_n = 0\n",
    "    \n",
    "    for i in range(0,n):\n",
    "        for k,tokens in speaker_dic[i].items():\n",
    "            for token in tokens:\n",
    "                token_n = token_n+1\n",
    "                if token not in voor:\n",
    "                    voor.append(token)\n",
    "                if token not in speaker_vo[i]:\n",
    "                    speaker_vo[i].append(token)\n",
    "    \n",
    "    if n==3:\n",
    "        countand_list = [[] for j in range(0,3)]\n",
    "        x = 0\n",
    "        for s_i in range(0,n-1):\n",
    "            for s_j in range(s_i+1,n):\n",
    "                for token in speaker_vo[s_i]:\n",
    "                    if token in speaker_vo[s_j]:\n",
    "                        countand_list[x].append(token)\n",
    "                x = x+1\n",
    "        countand = 0               \n",
    "        for c in range(0,3):\n",
    "            countand = countand + len(countand_list[c])\n",
    "        \n",
    "        countor = len(voor)\n",
    "        overlap = countand/(3*countor)\n",
    "        \n",
    "        vo_group = {\"speaker_number\": n, \"vo_overlap\": countand, \"vo_total\": countor, \"total_token_number\":token_n, \"overlap\": overlap,\\\n",
    "                    \"s1_and_s2\": len(countand_list[0]), \"s1_and_s3\": len(countand_list[1]),\"s2_and_s3\": len(countand_list[2])}\n",
    "            \n",
    "            \n",
    "    if n==4:\n",
    "        countand_list = [[] for i in range(0,6)]\n",
    "        x = 0\n",
    "        for s_i in range(0,n-1):\n",
    "            for s_j in range(s_i+1,n):\n",
    "                for token in speaker_vo[s_i]:\n",
    "                    if token in speaker_vo[s_j]:\n",
    "                        countand_list[x].append(token)\n",
    "                x = x+1\n",
    "        countand = 0               \n",
    "        for c in range(0,6):\n",
    "            countand = countand + len(countand_list[c])\n",
    "        countor = len(voor)\n",
    "        overlap = countand/(6*countor)\n",
    "        \n",
    "        vo_group = {\"speaker_number\": n, \"vo_overlap\": countand, \"vo_total\": countor, \"total_token_number\":token_n, \"overlap\": overlap,\\\n",
    "                    \"s1_and_s2\": len(countand_list[0]), \"s1_and_s3\": len(countand_list[1]),\"s1_and_s4\": len(countand_list[2]),\\\n",
    "                   \"s2_and_s3\": len(countand_list[3]),\"s2_and_s4\": len(countand_list[4]),\"s3_and_s4\": len(countand_list[5])}\n",
    "    \n",
    "    \n",
    "    return vo_group"
   ]
  },
  {
   "cell_type": "code",
   "execution_count": 16,
   "metadata": {},
   "outputs": [],
   "source": [
    "def get_vo_average_speaker(speaker, speaker_dic):\n",
    "    n = len(speaker)\n",
    "    voand = []\n",
    "    voor = []\n",
    "    speaker_vo = [[] for x in range(0,n)]\n",
    "    vo_group = {}\n",
    "    token_n = 0\n",
    "    \n",
    "    for i in range(0,n):\n",
    "        for k,tokens in speaker_dic[i].items():\n",
    "            token_n = token_n + len(tokens)\n",
    "            for token in tokens:\n",
    "#                 token_n = token_n+1\n",
    "                if token not in voor:\n",
    "                    voor.append(token)\n",
    "                if token not in speaker_vo[i]:\n",
    "                    speaker_vo[i].append(token)\n",
    "                    \n",
    "    if n==2:\n",
    "        voand_2 = []\n",
    "        for s0 in speaker_vo[0]:\n",
    "            if s0 in speaker_vo[1]:\n",
    "                if s0 not in voand_2:\n",
    "                    voand_2.append(s0)\n",
    "                    \n",
    "        countand = len(voand_2)\n",
    "        countor = len(voor)\n",
    "        overlap = countand/countor\n",
    "        \n",
    "        vo_group = {\"speaker_number\": n, \"vo_overlap\": countand, \"vo_total\": countor, \"total_token_number\":token_n, \"overlap\": overlap}\n",
    "    \n",
    "    if n==3:\n",
    "        countand_list = [[] for j in range(0,3)]\n",
    "        x = 0\n",
    "        for s_i in range(0,n):\n",
    "            for s_j in range(0,n):\n",
    "                if s_j != s_i:\n",
    "                    for token in speaker_vo[s_i]:\n",
    "                        if token in speaker_vo[s_j]:\n",
    "                            if token not in countand_list[x]:\n",
    "                                countand_list[x].append(token)\n",
    "            x = x+1\n",
    "            \n",
    "        countand = 0               \n",
    "        for c in range(0,3):\n",
    "            countand = countand + len(countand_list[c])\n",
    "        \n",
    "        countor = len(voor)\n",
    "        overlap = countand/(3*countor)\n",
    "        \n",
    "        vo_group = {\"speaker_number\": n, \"vo_overlap\": countand, \"vo_total\": countor, \"total_token_number\":token_n, \"overlap\": overlap,\\\n",
    "                    \"s1_and_other\": len(countand_list[0]), \"s2_and_other\": len(countand_list[1]),\"s3_and_other\": len(countand_list[2])}\n",
    "            \n",
    "            \n",
    "    if n==4:\n",
    "        countand_list = [[] for i in range(0,4)]\n",
    "        x = 0\n",
    "        \n",
    "        for s_i in range(0,n):\n",
    "            for s_j in range(0,n):\n",
    "                if s_j != s_i:\n",
    "                    for token in speaker_vo[s_i]:\n",
    "                        if token in speaker_vo[s_j]:\n",
    "                            if token not in countand_list[x]:\n",
    "                                countand_list[x].append(token)\n",
    "            x = x+1\n",
    "            \n",
    "        countand = 0               \n",
    "        for c in range(0,4):\n",
    "            countand = countand + len(countand_list[c])\n",
    "        \n",
    "        countor = len(voor)\n",
    "        overlap = countand/(4*countor)\n",
    "\n",
    "        \n",
    "        vo_group = {\"speaker_number\": n, \"vo_overlap\": countand, \"vo_total\": countor, \"total_token_number\":token_n, \"overlap\": overlap,\\\n",
    "                    \"s1_and_other\": len(countand_list[0]), \"s2_and_other\": len(countand_list[1]),\"s3_and_other\": len(countand_list[2]),\\\n",
    "                   \"s4_and_other\": len(countand_list[3])}\n",
    "    \n",
    "    \n",
    "    return vo_group"
   ]
  },
  {
   "cell_type": "code",
   "execution_count": 33,
   "metadata": {},
   "outputs": [],
   "source": [
    "def get_vo_average_speaker_in_window(speaker, speaker_dic, start, end):\n",
    "    n = len(speaker)\n",
    "    voand = []\n",
    "    voor = []\n",
    "    speaker_vo = [[] for x in range(0,n)]\n",
    "    vo_group = {}\n",
    "    token_n = 0\n",
    "    \n",
    "    for i in range(0,n):\n",
    "        for k,tokens in speaker_dic[i].items():\n",
    "            if k>=start and k<end:\n",
    "                token_n = token_n + len(tokens)\n",
    "                for token in tokens:\n",
    "#                 token_n = token_n+1\n",
    "                    if token not in voor:\n",
    "                        voor.append(token)\n",
    "                    if token not in speaker_vo[i]:\n",
    "                        speaker_vo[i].append(token)\n",
    "    if n==2:\n",
    "        voand_2 = []\n",
    "        for s0 in speaker_vo[0]:\n",
    "            if s0 in speaker_vo[1]:\n",
    "                if s0 not in voand_2:\n",
    "                    voand_2.append(s0)\n",
    "                    \n",
    "        countand = len(voand_2)\n",
    "        countor = len(voor)\n",
    "        overlap = countand/countor\n",
    "        \n",
    "        vo_group = {\"speaker_number\": n, \"vo_overlap\": countand, \"vo_total\": countor, \"total_token_number\":token_n, \"overlap\": overlap, \"begin\":start, \"end\":end}\n",
    "    \n",
    "    \n",
    "    if n==3:\n",
    "        countand_list = [[] for j in range(0,3)]\n",
    "        x = 0\n",
    "        for s_i in range(0,n):\n",
    "            for s_j in range(0,n):\n",
    "                if s_j != s_i:\n",
    "                    for token in speaker_vo[s_i]:\n",
    "                        if token in speaker_vo[s_j]:\n",
    "                            if token not in countand_list[x]:\n",
    "                                countand_list[x].append(token)\n",
    "            x = x+1\n",
    "            \n",
    "        countand = 0               \n",
    "        for c in range(0,3):\n",
    "            countand = countand + len(countand_list[c])\n",
    "        \n",
    "        countor = len(voor)\n",
    "        overlap = countand/(3*countor)\n",
    "        \n",
    "        vo_group = {\"speaker_number\": n, \"vo_overlap\": countand, \"vo_total\": countor, \"total_token_number\":token_n, \"overlap\": overlap,\\\n",
    "                    \"s1_and_other\": len(countand_list[0]), \"s2_and_other\": len(countand_list[1]),\"s3_and_other\": len(countand_list[2]),\\\n",
    "                   \"begin\":start, \"end\":end}\n",
    "            \n",
    "            \n",
    "    if n==4:\n",
    "        countand_list = [[] for i in range(0,4)]\n",
    "        x = 0\n",
    "        \n",
    "        for s_i in range(0,n):\n",
    "            for s_j in range(0,n):\n",
    "                if s_j != s_i:\n",
    "                    for token in speaker_vo[s_i]:\n",
    "                        if token in speaker_vo[s_j]:\n",
    "                            if token not in countand_list[x]:\n",
    "                                countand_list[x].append(token)\n",
    "            x = x+1\n",
    "            \n",
    "        countand = 0               \n",
    "        for c in range(0,4):\n",
    "            countand = countand + len(countand_list[c])\n",
    "        \n",
    "        countor = len(voor)\n",
    "        overlap = countand/(4*countor)\n",
    "\n",
    "        \n",
    "        vo_group = {\"speaker_number\": n, \"vo_overlap\": countand, \"vo_total\": countor, \"total_token_number\":token_n, \"overlap\": overlap,\\\n",
    "                    \"s1_and_other\": len(countand_list[0]), \"s2_and_other\": len(countand_list[1]),\"s3_and_other\": len(countand_list[2]),\\\n",
    "                   \"s4_and_other\": len(countand_list[3]), 'begin':start, 'end':end}\n",
    "    \n",
    "    \n",
    "    return vo_group\n",
    "    \n",
    "    "
   ]
  },
  {
   "cell_type": "code",
   "execution_count": 18,
   "metadata": {},
   "outputs": [],
   "source": [
    "def number_of_slot_n(speaker_dic,length_u):\n",
    "    number_of_u = 0\n",
    "    for s_d in speaker_dic:\n",
    "        number_of_u = number_of_u + len(s_d)\n",
    "    \n",
    "    number_slot = int(number_of_u - number_of_u%length_u)/length_u\n",
    "    return int(number_slot)"
   ]
  },
  {
   "cell_type": "code",
   "execution_count": 19,
   "metadata": {},
   "outputs": [],
   "source": [
    "def number_of_total_u(speaker_dic):\n",
    "    number_of_u = 0\n",
    "    for s_d in speaker_dic:\n",
    "        number_of_u = number_of_u + len(s_d)\n",
    "    \n",
    "    return number_of_u"
   ]
  },
  {
   "cell_type": "code",
   "execution_count": 20,
   "metadata": {},
   "outputs": [],
   "source": [
    "def get_vo_average_speaker_temporal_n(speaker, speaker_dic, length):\n",
    "    slot_number = number_of_slot_n(speaker_dic, length)\n",
    "    vo_dic_list = []\n",
    "    total_u = 0\n",
    "    \n",
    "    for s in speaker_dic:\n",
    "        total_u = total_u + len(s)\n",
    "    \n",
    "    for i in range(0,slot_number):\n",
    "        vo_dic = get_vo_average_speaker_in_window(speaker,speaker_dic, 0, length*(i+1))\n",
    "        vo_dic_list.append(vo_dic)\n",
    "    \n",
    "    vo_dic_end = get_vo_average_speaker_in_window(speaker, speaker_dic, 0, total_u)\n",
    "    vo_dic_list.append(vo_dic_end)\n",
    "    \n",
    "    return vo_dic_list"
   ]
  },
  {
   "cell_type": "code",
   "execution_count": 21,
   "metadata": {},
   "outputs": [],
   "source": [
    "out1 = extract_speakers_n(df,2)"
   ]
  },
  {
   "cell_type": "code",
   "execution_count": 22,
   "metadata": {},
   "outputs": [],
   "source": [
    "out2 = extract_dialogues_dic_n(out1[0],out1[1])"
   ]
  },
  {
   "cell_type": "code",
   "execution_count": 26,
   "metadata": {},
   "outputs": [
    {
     "name": "stdout",
     "output_type": "stream",
     "text": [
      "{'speaker_number': 2, 'vo_overlap': 802, 'vo_total': 1857, 'total_token_number': 30732, 'overlap': 0.43187937533656434}\n"
     ]
    }
   ],
   "source": [
    "out3 = get_vo(out2[0], out2[1])\n",
    "print(out3)"
   ]
  },
  {
   "cell_type": "code",
   "execution_count": 27,
   "metadata": {},
   "outputs": [
    {
     "name": "stdout",
     "output_type": "stream",
     "text": [
      "{}\n"
     ]
    }
   ],
   "source": [
    "out4 = get_vo_pairwise(out2[0], out2[1])\n",
    "print(out4)"
   ]
  },
  {
   "cell_type": "code",
   "execution_count": 28,
   "metadata": {},
   "outputs": [
    {
     "name": "stdout",
     "output_type": "stream",
     "text": [
      "{'speaker_number': 2, 'vo_overlap': 802, 'vo_total': 1857, 'total_token_number': 30732, 'overlap': 0.43187937533656434}\n"
     ]
    }
   ],
   "source": [
    "out5 = get_vo_average_speaker(out2[0], out2[1])\n",
    "print(out5)"
   ]
  },
  {
   "cell_type": "code",
   "execution_count": 29,
   "metadata": {},
   "outputs": [
    {
     "name": "stdout",
     "output_type": "stream",
     "text": [
      "0.23225806451612904\n",
      "0.35390946502057613\n",
      "0.36423841059602646\n",
      "0.38563829787234044\n",
      "0.3886255924170616\n",
      "0.3883089770354906\n",
      "0.40264650283553877\n",
      "0.3904923599320883\n",
      "0.3885350318471338\n",
      "0.3929663608562691\n",
      "0.3962536023054755\n",
      "0.39030955585464333\n",
      "0.40235910878112713\n",
      "0.4073139974779319\n",
      "0.40931372549019607\n",
      "0.3980370774263904\n",
      "0.3896761133603239\n",
      "0.38747553816046965\n",
      "0.3881453154875717\n",
      "0.38992537313432835\n",
      "0.3893884892086331\n",
      "0.39664310954063603\n",
      "0.3943298969072165\n",
      "0.3917438921651222\n",
      "0.3933609958506224\n",
      "0.39416058394160586\n",
      "0.4017501988862371\n",
      "0.40644654088050314\n",
      "0.41245136186770426\n",
      "0.40813253012048195\n",
      "0.41263940520446096\n",
      "0.41051862673484296\n",
      "0.40883190883190884\n",
      "0.41014799154334036\n",
      "0.41562064156206413\n",
      "0.4168391994478951\n",
      "0.4165526675786594\n",
      "0.4138162307176392\n",
      "0.4128862590401052\n",
      "0.4150453955901427\n",
      "0.4151185137732223\n",
      "0.4168781725888325\n",
      "0.416141235813367\n",
      "0.41594022415940224\n",
      "0.4155363748458693\n",
      "0.4169221336603311\n",
      "0.4208611279563372\n",
      "0.42254370102471367\n",
      "0.4221556886227545\n",
      "0.41927853341218213\n",
      "0.4191090269636577\n",
      "0.4186991869918699\n",
      "0.4205069124423963\n",
      "0.4202157864849517\n",
      "0.4196629213483146\n",
      "0.41861761426978816\n",
      "0.4193725921849202\n",
      "0.42036124794745483\n",
      "0.4238952536824877\n",
      "0.4247020585048754\n",
      "0.4290339989206692\n",
      "0.43187937533656434\n"
     ]
    }
   ],
   "source": [
    "out6 = get_vo_average_speaker_temporal_n(out2[0], out2[1], 50)\n",
    "for o in out6:\n",
    "    print(o['overlap'])"
   ]
  },
  {
   "cell_type": "code",
   "execution_count": 34,
   "metadata": {},
   "outputs": [
    {
     "name": "stdout",
     "output_type": "stream",
     "text": [
      "622\n"
     ]
    }
   ],
   "source": [
    "import pandas as pd\n",
    "dl = []\n",
    "temporal_vo = []\n",
    "import glob,os\n",
    "path0 = 'tsvfiles/'\n",
    "path = 'vo_calculate/vo_group2_temporal_average_speaker'\n",
    "files = glob.glob(os.path.join(path0, \"S***.tsv\"))\n",
    "print(len(files))\n",
    "for f in files:\n",
    "    dff = spark.read.csv(f, sep=r'\\t', header=False, mode=\"DROPMALFORMED\")\n",
    "    speaker_f = extract_speakers_n(dff,2)\n",
    "    dialogue_dic_f = extract_dialogues_dic_n(speaker_f[0],speaker_f[1])\n",
    "    df_vo_temporal = get_vo_average_speaker_temporal_n(dialogue_dic_f[0],dialogue_dic_f[1],50)\n",
    "    for d in df_vo_temporal:\n",
    "        d['file'] = f[len(f)-8:len(f)]\n",
    "    temporal_vo = pd.DataFrame(df_vo_temporal)\n",
    "    temporal_vo.to_csv(os.path.join(path, f[len(f)-8:len(f)-4]+'.csv'), index = False)"
   ]
  },
  {
   "cell_type": "code",
   "execution_count": 30,
   "metadata": {},
   "outputs": [
    {
     "name": "stdout",
     "output_type": "stream",
     "text": [
      "['tsvfiles/SGN8.tsv', 'tsvfiles/S72E.tsv', 'tsvfiles/SUPV.tsv', 'tsvfiles/SYEZ.tsv', 'tsvfiles/SRW5.tsv', 'tsvfiles/SG4J.tsv', 'tsvfiles/S2AJ.tsv', 'tsvfiles/S24A.tsv', 'tsvfiles/SL3R.tsv', 'tsvfiles/S5HT.tsv', 'tsvfiles/SZAP.tsv', 'tsvfiles/S4C2.tsv', 'tsvfiles/SXVL.tsv', 'tsvfiles/SJJK.tsv', 'tsvfiles/SXWH.tsv', 'tsvfiles/SDGT.tsv', 'tsvfiles/SZYV.tsv', 'tsvfiles/STUM.tsv', 'tsvfiles/SVCT.tsv', 'tsvfiles/SVBG.tsv', 'tsvfiles/SHJH.tsv', 'tsvfiles/SV4W.tsv', 'tsvfiles/STV6.tsv', 'tsvfiles/SZME.tsv', 'tsvfiles/S32W.tsv', 'tsvfiles/SJE3.tsv', 'tsvfiles/SPXX.tsv', 'tsvfiles/S7QU.tsv', 'tsvfiles/SEM7.tsv', 'tsvfiles/S5ER.tsv', 'tsvfiles/SP5U.tsv', 'tsvfiles/S7FK.tsv', 'tsvfiles/SYDJ.tsv', 'tsvfiles/SUPB.tsv', 'tsvfiles/SRVD.tsv', 'tsvfiles/SN26.tsv', 'tsvfiles/S72Q.tsv', 'tsvfiles/SBS5.tsv', 'tsvfiles/S7P2.tsv', 'tsvfiles/SFPK.tsv', 'tsvfiles/SAZ8.tsv', 'tsvfiles/SAXQ.tsv', 'tsvfiles/SZXQ.tsv', 'tsvfiles/SXAQ.tsv', 'tsvfiles/S87R.tsv', 'tsvfiles/SHJJ.tsv', 'tsvfiles/SVCW.tsv', 'tsvfiles/S682.tsv', 'tsvfiles/SAA3.tsv', 'tsvfiles/SQ37.tsv', 'tsvfiles/SQEF.tsv', 'tsvfiles/S8B9.tsv', 'tsvfiles/SCWJ.tsv', 'tsvfiles/SFJ2.tsv', 'tsvfiles/SAMQ.tsv', 'tsvfiles/SX6D.tsv', 'tsvfiles/SDFR.tsv', 'tsvfiles/SHP3.tsv', 'tsvfiles/SMMK.tsv', 'tsvfiles/STBF.tsv', 'tsvfiles/ST47.tsv', 'tsvfiles/STLZ.tsv', 'tsvfiles/SZCM.tsv', 'tsvfiles/SMCW.tsv', 'tsvfiles/SUGJ.tsv', 'tsvfiles/SE58.tsv', 'tsvfiles/S7RM.tsv', 'tsvfiles/SRCD.tsv', 'tsvfiles/SRNT.tsv', 'tsvfiles/SLDD.tsv', 'tsvfiles/SRNC.tsv', 'tsvfiles/SR9W.tsv', 'tsvfiles/SR96.tsv', 'tsvfiles/SRVR.tsv', 'tsvfiles/SN27.tsv', 'tsvfiles/SETW.tsv', 'tsvfiles/SP9F.tsv', 'tsvfiles/S9KS.tsv', 'tsvfiles/S9GP.tsv', 'tsvfiles/S5QP.tsv', 'tsvfiles/S7SZ.tsv', 'tsvfiles/SE6F.tsv', 'tsvfiles/STMM.tsv', 'tsvfiles/SAVH.tsv', 'tsvfiles/S6ZU.tsv', 'tsvfiles/SCA5.tsv', 'tsvfiles/SMNC.tsv', 'tsvfiles/S8XE.tsv', 'tsvfiles/SMYJ.tsv', 'tsvfiles/SXLD.tsv', 'tsvfiles/S3RZ.tsv', 'tsvfiles/SHHG.tsv', 'tsvfiles/SVCS.tsv', 'tsvfiles/SQ2W.tsv', 'tsvfiles/SCYD.tsv', 'tsvfiles/S3RL.tsv', 'tsvfiles/STZ3.tsv', 'tsvfiles/S6BR.tsv', 'tsvfiles/S4ZA.tsv', 'tsvfiles/STVQ.tsv', 'tsvfiles/SCVK.tsv', 'tsvfiles/SDS7.tsv', 'tsvfiles/SV8E.tsv', 'tsvfiles/SX6V.tsv', 'tsvfiles/SHSL.tsv', 'tsvfiles/S3KY.tsv', 'tsvfiles/S33B.tsv', 'tsvfiles/S3DA.tsv', 'tsvfiles/S8U5.tsv', 'tsvfiles/SYRT.tsv', 'tsvfiles/SPZA.tsv', 'tsvfiles/SRCA.tsv', 'tsvfiles/SNQB.tsv', 'tsvfiles/SBG4.tsv', 'tsvfiles/SGY6.tsv', 'tsvfiles/SGYW.tsv', 'tsvfiles/SRZT.tsv', 'tsvfiles/SWD7.tsv', 'tsvfiles/SRWD.tsv', 'tsvfiles/S2YK.tsv', 'tsvfiles/SN22.tsv', 'tsvfiles/SEV9.tsv', 'tsvfiles/SLRY.tsv', 'tsvfiles/S9G2.tsv', 'tsvfiles/SWGX.tsv', 'tsvfiles/SRN2.tsv', 'tsvfiles/S2AX.tsv', 'tsvfiles/SRND.tsv', 'tsvfiles/S2B5.tsv', 'tsvfiles/SKNF.tsv', 'tsvfiles/SLH6.tsv', 'tsvfiles/SMBC.tsv', 'tsvfiles/SVWU.tsv', 'tsvfiles/SZBN.tsv', 'tsvfiles/S8VZ.tsv', 'tsvfiles/S45F.tsv', 'tsvfiles/SZLE.tsv', 'tsvfiles/SZ98.tsv', 'tsvfiles/SVN6.tsv', 'tsvfiles/S4ZT.tsv', 'tsvfiles/SXAW.tsv', 'tsvfiles/SCXU.tsv', 'tsvfiles/S3RN.tsv', 'tsvfiles/SZT4.tsv', 'tsvfiles/SFG3.tsv', 'tsvfiles/SQ2C.tsv', 'tsvfiles/SH2A.tsv', 'tsvfiles/SCUS.tsv', 'tsvfiles/STW7.tsv', 'tsvfiles/SC4J.tsv', 'tsvfiles/SDEX.tsv', 'tsvfiles/SFR2.tsv', 'tsvfiles/S323.tsv', 'tsvfiles/S28F.tsv', 'tsvfiles/S7SX.tsv', 'tsvfiles/SBFR.tsv', 'tsvfiles/SU3C.tsv', 'tsvfiles/S5JX.tsv', 'tsvfiles/SK7X.tsv', 'tsvfiles/S52C.tsv', 'tsvfiles/SLDB.tsv', 'tsvfiles/SUHT.tsv', 'tsvfiles/S7HR.tsv', 'tsvfiles/S5QR.tsv', 'tsvfiles/S9F7.tsv', 'tsvfiles/SP79.tsv', 'tsvfiles/SNDW.tsv', 'tsvfiles/SGHZ.tsv', 'tsvfiles/S7ZG.tsv', 'tsvfiles/S7VD.tsv', 'tsvfiles/SDLP.tsv', 'tsvfiles/SJ6L.tsv', 'tsvfiles/SHXX.tsv', 'tsvfiles/SJN6.tsv', 'tsvfiles/S6SH.tsv', 'tsvfiles/SZJ5.tsv', 'tsvfiles/S38V.tsv', 'tsvfiles/SFM7.tsv', 'tsvfiles/SQ6L.tsv', 'tsvfiles/SJWU.tsv', 'tsvfiles/S4PF.tsv', 'tsvfiles/SXJW.tsv', 'tsvfiles/SE3Y.tsv', 'tsvfiles/SLMK.tsv', 'tsvfiles/SB6S.tsv', 'tsvfiles/SL9D.tsv', 'tsvfiles/S7ZF.tsv', 'tsvfiles/SLBS.tsv', 'tsvfiles/S5B4.tsv', 'tsvfiles/SB9K.tsv', 'tsvfiles/SYX3.tsv', 'tsvfiles/SKPP.tsv', 'tsvfiles/SESD.tsv', 'tsvfiles/S7NV.tsv', 'tsvfiles/SNNG.tsv', 'tsvfiles/SKRZ.tsv', 'tsvfiles/SYZX.tsv', 'tsvfiles/SBCZ.tsv', 'tsvfiles/S9YG.tsv', 'tsvfiles/SRG8.tsv', 'tsvfiles/SYTD.tsv', 'tsvfiles/SMEB.tsv', 'tsvfiles/S8S2.tsv', 'tsvfiles/SASU.tsv', 'tsvfiles/SFYP.tsv', 'tsvfiles/SQ82.tsv', 'tsvfiles/SFLQ.tsv', 'tsvfiles/SV2V.tsv', 'tsvfiles/SXKQ.tsv', 'tsvfiles/SQ55.tsv', 'tsvfiles/SQ68.tsv', 'tsvfiles/SVET.tsv', 'tsvfiles/SH9T.tsv', 'tsvfiles/S8G6.tsv', 'tsvfiles/SMPU.tsv', 'tsvfiles/S622.tsv', 'tsvfiles/STRH.tsv', 'tsvfiles/SZKE.tsv', 'tsvfiles/SCEL.tsv', 'tsvfiles/S6QU.tsv', 'tsvfiles/S346.tsv', 'tsvfiles/SQWW.tsv', 'tsvfiles/SEGU.tsv', 'tsvfiles/SB49.tsv', 'tsvfiles/SRD5.tsv', 'tsvfiles/SEFQ.tsv', 'tsvfiles/SNWS.tsv', 'tsvfiles/SYU7.tsv', 'tsvfiles/S57J.tsv', 'tsvfiles/SL46.tsv', 'tsvfiles/SK3B.tsv', 'tsvfiles/S55B.tsv', 'tsvfiles/S9WZ.tsv', 'tsvfiles/SNLY.tsv', 'tsvfiles/SWBG.tsv', 'tsvfiles/SY5K.tsv', 'tsvfiles/SY7T.tsv', 'tsvfiles/SBYQ.tsv', 'tsvfiles/SN97.tsv', 'tsvfiles/SP3Q.tsv', 'tsvfiles/SEJ7.tsv', 'tsvfiles/SYXU.tsv', 'tsvfiles/S59R.tsv', 'tsvfiles/SBA6.tsv', 'tsvfiles/SYUR.tsv', 'tsvfiles/SD8N.tsv', 'tsvfiles/SFXF.tsv', 'tsvfiles/SXFD.tsv', 'tsvfiles/SQ9R.tsv', 'tsvfiles/SDY6.tsv', 'tsvfiles/SAG4.tsv', 'tsvfiles/SZQX.tsv', 'tsvfiles/SXJP.tsv', 'tsvfiles/S6JL.tsv', 'tsvfiles/SXK5.tsv', 'tsvfiles/SXK4.tsv', 'tsvfiles/SJV7.tsv', 'tsvfiles/SFLB.tsv', 'tsvfiles/SXFR.tsv', 'tsvfiles/SDVN.tsv', 'tsvfiles/SVH7.tsv', 'tsvfiles/S38F.tsv', 'tsvfiles/SD62.tsv', 'tsvfiles/SFZ9.tsv', 'tsvfiles/S36Z.tsv', 'tsvfiles/SFT2.tsv', 'tsvfiles/SMGY.tsv', 'tsvfiles/SLNV.tsv', 'tsvfiles/SU82.tsv', 'tsvfiles/S97B.tsv', 'tsvfiles/SUZS.tsv', 'tsvfiles/SBX7.tsv', 'tsvfiles/SPFN.tsv', 'tsvfiles/SW55.tsv', 'tsvfiles/SNXL.tsv', 'tsvfiles/S2E2.tsv', 'tsvfiles/SCKW.tsv', 'tsvfiles/S382.tsv', 'tsvfiles/S8J6.tsv', 'tsvfiles/SH79.tsv', 'tsvfiles/SVFH.tsv', 'tsvfiles/S4PC.tsv', 'tsvfiles/S6HP.tsv', 'tsvfiles/SVED.tsv', 'tsvfiles/SZR7.tsv', 'tsvfiles/SVDV.tsv', 'tsvfiles/S6J8.tsv', 'tsvfiles/SC3M.tsv', 'tsvfiles/SJ5D.tsv', 'tsvfiles/SD9H.tsv', 'tsvfiles/S43S.tsv', 'tsvfiles/SFUT.tsv', 'tsvfiles/S432.tsv', 'tsvfiles/SB7R.tsv', 'tsvfiles/S7LN.tsv', 'tsvfiles/SKPB.tsv', 'tsvfiles/SNCG.tsv', 'tsvfiles/SNA4.tsv', 'tsvfiles/SBVQ.tsv', 'tsvfiles/SNMA.tsv', 'tsvfiles/SKPX.tsv', 'tsvfiles/S95D.tsv', 'tsvfiles/S9VB.tsv', 'tsvfiles/SGSY.tsv', 'tsvfiles/S7Z8.tsv', 'tsvfiles/SUNM.tsv', 'tsvfiles/SWU3.tsv', 'tsvfiles/SRF6.tsv', 'tsvfiles/SHXF.tsv', 'tsvfiles/SDMJ.tsv', 'tsvfiles/SD8A.tsv', 'tsvfiles/STKV.tsv', 'tsvfiles/STK7.tsv', 'tsvfiles/SXQU.tsv', 'tsvfiles/SJ88.tsv', 'tsvfiles/SAHB.tsv', 'tsvfiles/S63K.tsv', 'tsvfiles/S4QK.tsv', 'tsvfiles/S4S5.tsv', 'tsvfiles/SZPS.tsv', 'tsvfiles/SVFD.tsv', 'tsvfiles/SQ63.tsv', 'tsvfiles/S4RF.tsv', 'tsvfiles/S3XC.tsv', 'tsvfiles/SCQC.tsv', 'tsvfiles/SZKX.tsv', 'tsvfiles/SMHY.tsv', 'tsvfiles/S3M4.tsv', 'tsvfiles/SHT2.tsv', 'tsvfiles/SD92.tsv', 'tsvfiles/S37F.tsv', 'tsvfiles/S3AV.tsv', 'tsvfiles/SMF3.tsv', 'tsvfiles/SWYP.tsv', 'tsvfiles/SE2C.tsv', 'tsvfiles/SRFV.tsv', 'tsvfiles/SLMB.tsv', 'tsvfiles/SKJ6.tsv', 'tsvfiles/SEDD.tsv', 'tsvfiles/SU6W.tsv', 'tsvfiles/S56S.tsv', 'tsvfiles/S9WP.tsv', 'tsvfiles/S97Z.tsv', 'tsvfiles/S7MF.tsv', 'tsvfiles/S7NJ.tsv', 'tsvfiles/SRRS.tsv', 'tsvfiles/S7AR.tsv', 'tsvfiles/SN7D.tsv', 'tsvfiles/SY4E.tsv', 'tsvfiles/S9MK.tsv', 'tsvfiles/SPHJ.tsv', 'tsvfiles/SRRQ.tsv', 'tsvfiles/S5YC.tsv', 'tsvfiles/SLTU.tsv', 'tsvfiles/S7NH.tsv', 'tsvfiles/SG3P.tsv', 'tsvfiles/S9VA.tsv', 'tsvfiles/SWW8.tsv', 'tsvfiles/S2GC.tsv', 'tsvfiles/SKJ4.tsv', 'tsvfiles/S2K6.tsv', 'tsvfiles/SEGJ.tsv', 'tsvfiles/S3AC.tsv', 'tsvfiles/SDN3.tsv', 'tsvfiles/S3MW.tsv', 'tsvfiles/SDAJ.tsv', 'tsvfiles/STRW.tsv', 'tsvfiles/SF6K.tsv', 'tsvfiles/SMRU.tsv', 'tsvfiles/SMSF.tsv', 'tsvfiles/SFCW.tsv', 'tsvfiles/SJTE.tsv', 'tsvfiles/SV3M.tsv', 'tsvfiles/SFNQ.tsv', 'tsvfiles/SH63.tsv', 'tsvfiles/SCQW.tsv', 'tsvfiles/ST39.tsv', 'tsvfiles/SXPD.tsv', 'tsvfiles/SJLT.tsv', 'tsvfiles/SFYX.tsv', 'tsvfiles/SMK7.tsv', 'tsvfiles/SVPK.tsv', 'tsvfiles/SRDJ.tsv', 'tsvfiles/S2FQ.tsv', 'tsvfiles/S94U.tsv', 'tsvfiles/SW98.tsv', 'tsvfiles/SWLR.tsv', 'tsvfiles/SWMV.tsv', 'tsvfiles/SLX6.tsv', 'tsvfiles/SUUE.tsv', 'tsvfiles/SN59.tsv', 'tsvfiles/S9N4.tsv', 'tsvfiles/SNCL.tsv', 'tsvfiles/SNAS.tsv', 'tsvfiles/SW4Z.tsv', 'tsvfiles/S9CR.tsv', 'tsvfiles/SBXK.tsv', 'tsvfiles/S954.tsv', 'tsvfiles/SY8A.tsv', 'tsvfiles/SWUT.tsv', 'tsvfiles/SRKV.tsv', 'tsvfiles/SK39.tsv', 'tsvfiles/S9ZP.tsv', 'tsvfiles/S9X9.tsv', 'tsvfiles/S8Q6.tsv', 'tsvfiles/S8SH.tsv', 'tsvfiles/SJAW.tsv', 'tsvfiles/SJLP.tsv', 'tsvfiles/SHBY.tsv', 'tsvfiles/SCQS.tsv', 'tsvfiles/SJXU.tsv', 'tsvfiles/S3UC.tsv', 'tsvfiles/S6J2.tsv', 'tsvfiles/SJU2.tsv', 'tsvfiles/S8GL.tsv', 'tsvfiles/S8K9.tsv', 'tsvfiles/S63L.tsv', 'tsvfiles/SDWT.tsv', 'tsvfiles/S6R4.tsv', 'tsvfiles/SXSM.tsv', 'tsvfiles/SKKU.tsv', 'tsvfiles/SKJQ.tsv', 'tsvfiles/S7WY.tsv', 'tsvfiles/SEKZ.tsv', 'tsvfiles/S2FT.tsv', 'tsvfiles/SL76.tsv', 'tsvfiles/S5AA.tsv', 'tsvfiles/SNXG.tsv', 'tsvfiles/SNCM.tsv', 'tsvfiles/SN4N.tsv', 'tsvfiles/SEPP.tsv', 'tsvfiles/SN7W.tsv', 'tsvfiles/SUU4.tsv', 'tsvfiles/SY5E.tsv', 'tsvfiles/SG2E.tsv', 'tsvfiles/SY8B.tsv', 'tsvfiles/S7MU.tsv', 'tsvfiles/SKDX.tsv', 'tsvfiles/SRK4.tsv', 'tsvfiles/SEKX.tsv', 'tsvfiles/SRGA.tsv', 'tsvfiles/SQWN.tsv', 'tsvfiles/STGP.tsv', 'tsvfiles/SDB6.tsv', 'tsvfiles/SD6X.tsv', 'tsvfiles/SCS9.tsv', 'tsvfiles/SVKF.tsv', 'tsvfiles/SV28.tsv', 'tsvfiles/S3TD.tsv', 'tsvfiles/SV2N.tsv', 'tsvfiles/SMSW.tsv', 'tsvfiles/SAFZ.tsv', 'tsvfiles/S3VM.tsv', 'tsvfiles/SJTT.tsv', 'tsvfiles/SCQF.tsv', 'tsvfiles/S4K7.tsv', 'tsvfiles/STEY.tsv', 'tsvfiles/SJ8J.tsv', 'tsvfiles/SD68.tsv', 'tsvfiles/S8RY.tsv', 'tsvfiles/SCJL.tsv', 'tsvfiles/S35K.tsv', 'tsvfiles/SYWF.tsv', 'tsvfiles/SLLC.tsv', 'tsvfiles/SKGU.tsv', 'tsvfiles/SPG4.tsv', 'tsvfiles/SPHZ.tsv', 'tsvfiles/SBUN.tsv', 'tsvfiles/SPJR.tsv', 'tsvfiles/S2XV.tsv', 'tsvfiles/SEVC.tsv', 'tsvfiles/SPLU.tsv', 'tsvfiles/S7K2.tsv', 'tsvfiles/SYJK.tsv', 'tsvfiles/S9E6.tsv', 'tsvfiles/S27D.tsv', 'tsvfiles/S2A5.tsv', 'tsvfiles/S29X.tsv', 'tsvfiles/SECU.tsv', 'tsvfiles/SXXN.tsv', 'tsvfiles/SAT9.tsv', 'tsvfiles/ST64.tsv', 'tsvfiles/S4MF.tsv', 'tsvfiles/S6AP.tsv', 'tsvfiles/SA9U.tsv', 'tsvfiles/SDQG.tsv', 'tsvfiles/SVNL.tsv', 'tsvfiles/SACQ.tsv', 'tsvfiles/SABT.tsv', 'tsvfiles/SVBN.tsv', 'tsvfiles/SZW4.tsv', 'tsvfiles/SA9T.tsv', 'tsvfiles/S66E.tsv', 'tsvfiles/SVNZ.tsv', 'tsvfiles/SC6N.tsv', 'tsvfiles/SMM7.tsv', 'tsvfiles/S8WS.tsv', 'tsvfiles/SAUJ.tsv', 'tsvfiles/SVVK.tsv', 'tsvfiles/STNX.tsv', 'tsvfiles/SKL5.tsv', 'tsvfiles/S9P6.tsv', 'tsvfiles/SR8N.tsv', 'tsvfiles/S9DE.tsv', 'tsvfiles/SWGB.tsv', 'tsvfiles/SBQ6.tsv', 'tsvfiles/SG87.tsv', 'tsvfiles/S7FU.tsv', 'tsvfiles/SY2F.tsv', 'tsvfiles/SYG9.tsv', 'tsvfiles/S5RP.tsv', 'tsvfiles/S9S8.tsv', 'tsvfiles/S5DJ.tsv', 'tsvfiles/SGV4.tsv', 'tsvfiles/S7S7.tsv', 'tsvfiles/SZBV.tsv', 'tsvfiles/SZAZ.tsv', 'tsvfiles/ST67.tsv', 'tsvfiles/SC7H.tsv', 'tsvfiles/S6TR.tsv', 'tsvfiles/SFET.tsv', 'tsvfiles/STY2.tsv', 'tsvfiles/SA69.tsv', 'tsvfiles/S4WJ.tsv', 'tsvfiles/S4XR.tsv', 'tsvfiles/S66F.tsv', 'tsvfiles/SXAN.tsv', 'tsvfiles/SVXT.tsv', 'tsvfiles/SFP5.tsv', 'tsvfiles/S33N.tsv', 'tsvfiles/SVT6.tsv', 'tsvfiles/SM6B.tsv', 'tsvfiles/SJDK.tsv', 'tsvfiles/SDJ9.tsv', 'tsvfiles/S5HH.tsv', 'tsvfiles/SPTQ.tsv', 'tsvfiles/SPVY.tsv', 'tsvfiles/SYHA.tsv', 'tsvfiles/S92V.tsv', 'tsvfiles/SEZB.tsv', 'tsvfiles/SP4L.tsv', 'tsvfiles/SEUM.tsv', 'tsvfiles/SYEF.tsv', 'tsvfiles/SKYV.tsv', 'tsvfiles/SGMM.tsv', 'tsvfiles/SKXA.tsv', 'tsvfiles/SGAN.tsv', 'tsvfiles/SG4R.tsv', 'tsvfiles/SBJM.tsv', 'tsvfiles/SPXV.tsv', 'tsvfiles/SECS.tsv', 'tsvfiles/SRBZ.tsv', 'tsvfiles/SNRQ.tsv', 'tsvfiles/S7RW.tsv', 'tsvfiles/S7S2.tsv', 'tsvfiles/SFRX.tsv', 'tsvfiles/S32Y.tsv', 'tsvfiles/S48K.tsv', 'tsvfiles/SHSD.tsv', 'tsvfiles/SVXP.tsv', 'tsvfiles/SXWG.tsv', 'tsvfiles/ST62.tsv', 'tsvfiles/SZNP.tsv', 'tsvfiles/SMY5.tsv', 'tsvfiles/S6A7.tsv', 'tsvfiles/SHDM.tsv', 'tsvfiles/SXCU.tsv', 'tsvfiles/S4W8.tsv', 'tsvfiles/S4VJ.tsv', 'tsvfiles/S3S6.tsv', 'tsvfiles/SQG4.tsv', 'tsvfiles/SVBH.tsv', 'tsvfiles/SHHX.tsv', 'tsvfiles/S4MV.tsv', 'tsvfiles/STAQ.tsv', 'tsvfiles/SZ7Y.tsv', 'tsvfiles/SZBR.tsv', 'tsvfiles/SAVW.tsv', 'tsvfiles/SDHU.tsv', 'tsvfiles/SPYD.tsv', 'tsvfiles/SNRP.tsv', 'tsvfiles/SLJ5.tsv', 'tsvfiles/SPXW.tsv', 'tsvfiles/SPY2.tsv', 'tsvfiles/S2LC.tsv', 'tsvfiles/SP67.tsv', 'tsvfiles/SGAX.tsv', 'tsvfiles/S9EP.tsv', 'tsvfiles/SGBT.tsv', 'tsvfiles/S7GW.tsv', 'tsvfiles/SPMV.tsv', 'tsvfiles/SPM5.tsv', 'tsvfiles/SG97.tsv', 'tsvfiles/S9ER.tsv', 'tsvfiles/S2UT.tsv', 'tsvfiles/S2TP.tsv', 'tsvfiles/S2CY.tsv', 'tsvfiles/SBEV.tsv', 'tsvfiles/SUEL.tsv', 'tsvfiles/SQS3.tsv', 'tsvfiles/SQRA.tsv', 'tsvfiles/SXBE.tsv', 'tsvfiles/S4YQ.tsv', 'tsvfiles/SVBJ.tsv', 'tsvfiles/SF2F.tsv', 'tsvfiles/SZVB.tsv', 'tsvfiles/SA4W.tsv', 'tsvfiles/SHK7.tsv', 'tsvfiles/SCYY.tsv', 'tsvfiles/SZVC.tsv', 'tsvfiles/SDR9.tsv', 'tsvfiles/SXCW.tsv', 'tsvfiles/SQHY.tsv', 'tsvfiles/SFK9.tsv', 'tsvfiles/SBDD.tsv', 'tsvfiles/S7QY.tsv', 'tsvfiles/S2C9.tsv', 'tsvfiles/SWRQ.tsv', 'tsvfiles/SEZ2.tsv', 'tsvfiles/SP7F.tsv', 'tsvfiles/S9HC.tsv', 'tsvfiles/SRTU.tsv']\n"
     ]
    }
   ],
   "source": [
    "import pandas as pd\n",
    "dl = []\n",
    "import glob,os\n",
    "path0 = 'tsvfiles/'\n",
    "path = 'vo_calculate/'\n",
    "files = glob.glob(os.path.join(path0, \"****.tsv\"))\n",
    "print(files)\n",
    "for f in files:\n",
    "    dff = spark.read.csv(f, sep=r'\\t', header=False, mode=\"DROPMALFORMED\")\n",
    "    speaker_f = extract_speakers_n(dff,2)\n",
    "    dialogue_dic_f = extract_dialogues_dic_n(speaker_f[0],speaker_f[1])\n",
    "    df_vo = get_vo_average_speaker(dialogue_dic_f[0],dialogue_dic_f[1])\n",
    "    df_vo['file'] = f[len(f)-8:len(f)]\n",
    "    dl.append(df_vo)\n",
    "\n",
    "dl_s = pd.DataFrame(dl)\n",
    "dl_s.to_csv(os.path.join(path,'vo_group_average_speaker_2.csv'), index = False)\n"
   ]
  },
  {
   "cell_type": "code",
   "execution_count": null,
   "metadata": {},
   "outputs": [],
   "source": []
  }
 ],
 "metadata": {
  "kernelspec": {
   "display_name": "Python 3",
   "language": "python",
   "name": "python3"
  },
  "language_info": {
   "codemirror_mode": {
    "name": "ipython",
    "version": 3
   },
   "file_extension": ".py",
   "mimetype": "text/x-python",
   "name": "python",
   "nbconvert_exporter": "python",
   "pygments_lexer": "ipython3",
   "version": "3.7.6"
  }
 },
 "nbformat": 4,
 "nbformat_minor": 4
}

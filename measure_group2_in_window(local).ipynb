{
 "cells": [
  {
   "cell_type": "code",
   "execution_count": 1,
   "metadata": {},
   "outputs": [],
   "source": [
    "from pyspark import SparkContext\n",
    "from pyspark.sql.session import SparkSession\n",
    "sc.stop()\n",
    "sc = SparkContext('local')\n",
    "spark = SparkSession(sc)"
   ]
  },
  {
   "cell_type": "code",
   "execution_count": 2,
   "metadata": {},
   "outputs": [
    {
     "name": "stdout",
     "output_type": "stream",
     "text": [
      "S0007,high tech bite of equipment\n",
      "S0018,it's very professional\n",
      "S0007,mm\n",
      "S0018,it give really good sound quality as well fantastic so yeah so you use to be a sport journalist\n",
      "S0007,well yeah i'm still try to so i be in the loose sense of the word um i er go to university six years ago now and um yeah like er i never grow up want to be a sport journalist i want to be a a sport athlete or sport performer\n"
     ]
    }
   ],
   "source": [
    "df = spark.read.csv(\n",
    "    \"S32W.tsv\", sep=r'\\t', header=False, mode=\"DROPMALFORMED\")\n",
    "\n",
    "dataColl=df.collect()\n",
    "for row in dataColl[0:5]:\n",
    "    print(row[0] + \",\" +str(row[1]))"
   ]
  },
  {
   "cell_type": "code",
   "execution_count": 3,
   "metadata": {},
   "outputs": [],
   "source": [
    "def extract_speakers(df1):\n",
    "    dataC = df1.collect()\n",
    "    speaker = [dataC[0][0]]\n",
    "    for row in dataC:\n",
    "        if row[0]!= speaker[0]:\n",
    "            speaker.append(row[0])\n",
    "            break\n",
    "    #rdd1 = rdd1.rdd\n",
    "    return df1, speaker"
   ]
  },
  {
   "cell_type": "code",
   "execution_count": 4,
   "metadata": {},
   "outputs": [],
   "source": [
    "def extract_dialogues_dic(rdd1, speaker):\n",
    "    speaker1 = speaker[0]\n",
    "    speaker2 = speaker[1]\n",
    "    speaker1_dialogue = {}\n",
    "    speaker2_dialogue = {}\n",
    "    dataC = rdd1.collect()\n",
    "    for i in range(0,len(dataC)):\n",
    "        if dataC[i][0] == speaker1:\n",
    "            if dataC[i][1]!=None:\n",
    "                speaker1_dialogue[i] = dataC[i][1].split()\n",
    "#             speaker1_dialogue.append(dataC[i][1].split())\n",
    "        elif dataC[i][0] == speaker2:\n",
    "            if dataC[i][1]!=None:\n",
    "                speaker2_dialogue[i] = dataC[i][1].split()\n",
    "#             speaker2_dialogue.append(dataC[i][1].split())\n",
    "    \n",
    "    return speaker, speaker1_dialogue, speaker2_dialogue"
   ]
  },
  {
   "cell_type": "code",
   "execution_count": 5,
   "metadata": {},
   "outputs": [
    {
     "name": "stdout",
     "output_type": "stream",
     "text": [
      "{'out', 'we', 'was', 'how', 'myself', 'for', 'they', 'about', \"hasn't\", 'then', 'both', 'so', 're', 'don', 'm', 'as', 'any', 'mightn', 'after', 'you', 'wouldn', 'why', 'been', 'where', 'by', \"isn't\", 'yourself', 'wasn', 'a', \"haven't\", 'did', \"hadn't\", 'their', 'hasn', 'doing', 'be', 'further', 'ours', 'now', 'am', 'her', \"you'll\", 'yourselves', 'that', 'my', 'what', 'to', 'd', 'not', \"won't\", \"couldn't\", 'own', 'there', 'this', 'each', 'all', 'haven', 'more', 'me', 've', 'weren', 'which', 'himself', 'nor', 'other', \"shouldn't\", 'who', \"should've\", 'same', 'at', 'such', 't', 'up', 'than', 'can', \"you've\", 'too', 'these', 'while', \"wasn't\", 'ourselves', 'before', 'i', 'he', \"didn't\", 'our', 'its', 'but', 'with', \"wouldn't\", 'those', 'because', 'the', 'y', 'shouldn', 'it', 'mustn', 'hers', 'just', 'doesn', 'ain', 'between', 'over', 'had', 'aren', \"mightn't\", 'does', 'have', 'and', 'or', 'some', \"mustn't\", 'only', 'won', 'when', 'needn', 'below', 'in', 'if', 'theirs', \"needn't\", \"aren't\", 'isn', 'again', 'his', 'whom', 'll', 'hadn', 'above', 'should', 'itself', 'themselves', 'until', 'are', 'she', 'no', 'from', 'into', 'will', 'your', 'few', 'herself', 'of', 'has', 'down', 'were', 'once', 'ma', 'having', 'them', 'under', 'him', 'shan', 'couldn', 'do', 'on', 'an', \"you'd\", 'yours', 'being', 'off', 'o', \"that'll\", 'very', \"weren't\", 'didn', 'through', \"you're\", 'most', 'against', \"it's\", \"doesn't\", 'here', 'is', 's', \"don't\", \"shan't\", 'during', \"she's\"}\n"
     ]
    }
   ],
   "source": [
    "from nltk.corpus import stopwords\n",
    "stops = set(stopwords.words('english'))\n",
    "print(stops)"
   ]
  },
  {
   "cell_type": "code",
   "execution_count": 6,
   "metadata": {},
   "outputs": [],
   "source": [
    "def get_er_one_with_u(x,y, exclude_stops):\n",
    "# need to be changed in other files\n",
    "    record=[[0 for i in range(len(y)+1)]  for j in range(len(x)+1)]\n",
    "    dic_record_s1 = {}\n",
    "    dic_record_s2 = {}\n",
    "    expression_list_1 = []\n",
    "    expression_list_2 = []\n",
    "    expression_list_1_token = []\n",
    "    expression_list_2_token = []\n",
    "    for i in range(0,len(x)):\n",
    "        for j in range(0,len(y)):\n",
    "            if x[i] == y[j]:\n",
    "                record[i+1][j+1] = record[i][j] + 1\n",
    "                if record[i+1][j+1] > 0:\n",
    "                        if i not in dic_record_s1.keys():\n",
    "                            dic_record_s1[i] = record[i+1][j+1]\n",
    "                        elif i in dic_record_s1.keys():\n",
    "                            if (dic_record_s1[i]<record[i+1][j+1]):\n",
    "                                dic_record_s1[i] = record[i+1][j+1]\n",
    "                                \n",
    "                        if j not in dic_record_s2.keys():\n",
    "                            dic_record_s2[j] = record[i+1][j+1]\n",
    "                        elif j in dic_record_s2.keys():\n",
    "                            if (dic_record_s2[j]<record[i+1][j+1]):\n",
    "                                dic_record_s2[j] = record[i+1][j+1]\n",
    "\n",
    "    if dic_record_s1== {}:\n",
    "        return []\n",
    "    \n",
    "    else:\n",
    "        i = max(dic_record_s1.values())\n",
    "        \n",
    "        \n",
    "    if dic_record_s2== {}:\n",
    "        return []\n",
    "    \n",
    "    else:\n",
    "        j = max(dic_record_s2.values())\n",
    "    \n",
    "    while i>0:  \n",
    "        for key in dic_record_s1:\n",
    "            if dic_record_s1[key] == i:\n",
    "            #expression_repitition_record = expression_repitition_record+1\n",
    "                expression = x[key+1-i : key+1]\n",
    "                expression_string = ' '.join(expression)\n",
    "            \n",
    "                for k in range(0,i):\n",
    "                    dic_record_s1[key - k] = 0\n",
    "            \n",
    "#             if expression_list != []:\n",
    "#                 for e in expression_list:\n",
    "#                     if expression not in e:\n",
    "#                         expression_list.append(expression) \n",
    "#             else:\n",
    "\n",
    "#                 if expression_list == []:\n",
    "#                     expression_list.append(expression_string)\n",
    "#                 else:\n",
    "#                     for ex in expression_list:\n",
    "#                         if expression string not in ex:\n",
    "#                             expression_list.append(expression)\n",
    "                if exclude_stops == True:\n",
    "                    if expression_string not in stops:\n",
    "                        if expression_string not in expression_list_1:\n",
    "                            expression_list_1.append(expression_string)\n",
    "                            expression_list_1_token.append(expression)\n",
    "                                     \n",
    "                else:\n",
    "                    if expression_string not in expression_list_1:\n",
    "                        expression_list_1.append(expression_string)\n",
    "#                 lens1 = lens1 + len(expression)\n",
    "                        expression_list_1_token.append(expression)\n",
    "        \n",
    "        i = i-1\n",
    "        \n",
    "    while j>0:  \n",
    "        for key in dic_record_s2:\n",
    "            if dic_record_s2[key] == j:\n",
    "            #expression_repitition_record = expression_repitition_record+1\n",
    "                expression_2 = y[key+1-j : key+1]\n",
    "                expression_string_2 = ' '.join(expression_2)\n",
    "            \n",
    "                for k in range(0,j):\n",
    "                    dic_record_s2[key - k] = 0\n",
    "                \n",
    "                \n",
    "                \n",
    "                if exclude_stops == True:\n",
    "                    if expression_string_2 not in stops:\n",
    "                        if expression_string_2 not in expression_list_1:\n",
    "                            expression_list_1.append(expression_string_2)\n",
    "                            expression_list_1_token.append(expression_2)\n",
    "                \n",
    "                else:\n",
    "                    if expression_string_2 not in expression_list_1:\n",
    "                        expression_list_1.append(expression_string_2)\n",
    "                        expression_list_1_token.append(expression_2)\n",
    "        \n",
    "        j = j-1\n",
    "        \n",
    "    return expression_list_1"
   ]
  },
  {
   "cell_type": "code",
   "execution_count": 7,
   "metadata": {},
   "outputs": [],
   "source": [
    "def get_er_dic_in_window(speaker, speaker1_dialogue, speaker2_dialogue,u_low, u_high):\n",
    "    expressions = {}\n",
    "    \n",
    "    for x,value_x in speaker1_dialogue.items():\n",
    "        for y,value_y in speaker2_dialogue.items():\n",
    "            if (x<u_high) and (x>= u_low) and (y<u_high) and (y>= u_low):\n",
    "                string = get_er_one_with_u(value_x, value_y, False)\n",
    "                value_x_sentence = ' '.join(value_x)\n",
    "                value_y_sentence = ' '.join(value_y)\n",
    "            \n",
    "                for s in string:\n",
    "                \n",
    "                    if s not in expressions.keys():\n",
    "                    \n",
    "                        pos = max(x,y)\n",
    "                        expressions[s] = [pos,[x],[y]]\n",
    "                    \n",
    "                    elif s in expressions.keys():\n",
    "                        if (x in expressions[s][1]) and (y not in expressions[s][2]):\n",
    "                            expressions[s][2].append(y)\n",
    "                            expressions[s][0] = max(min(expressions[s][2]),min(expressions[s][1]))\n",
    "                        elif (y in expressions[s][2]) and (x not in expressions[s][1]):\n",
    "                            expressions[s][1].append(x)\n",
    "                            expressions[s][0] = max(min(expressions[s][2]),min(expressions[s][1]))\n",
    "#                     elif (y in expressions[s][2]) and (x in expressions[s][1]):\n",
    "#                         expressions[s][0] = expressions[s][0]+count1+count2\n",
    "                    \n",
    "#                     expressions[s][1].append(x)\n",
    "#                     expressions[s][2].append(y)\n",
    "    \n",
    "    return expressions"
   ]
  },
  {
   "cell_type": "code",
   "execution_count": 8,
   "metadata": {},
   "outputs": [],
   "source": [
    "# def ex_in_timeslot(expression_dic,u_slot):\n",
    "#     ex_in_time = {}\n",
    "#     for k, v in expression_dic.items():\n",
    "#         flag = True\n",
    "#         for x in v[1]:\n",
    "#             for y in v[2]:\n",
    "#                 if (v[0] <= u_slot) and (x < u_slot) and (y < u_slot):\n",
    "#                     if k not in ex_in_time.keys():\n",
    "#                         ex_in_time[k] = v\n",
    "#                         flag = False\n",
    "#                         break\n",
    "#             if not flag:\n",
    "#                 break\n",
    "#     return ex_in_time  "
   ]
  },
  {
   "cell_type": "code",
   "execution_count": 9,
   "metadata": {},
   "outputs": [],
   "source": [
    "def get_er_ratio_in_time_before(speaker, speaker1_dialogue, speaker2_dialogue, ex_in_u, u_low, u_high):\n",
    "    max_len = 0\n",
    "    for key in ex_in_u.keys():\n",
    "        max_len = max(len(key.split()),max_len)\n",
    "    \n",
    "    i = max_len\n",
    "    dialogue_s1 = {}\n",
    "    dialogue_s2 = {}\n",
    "    count_u1 = 0\n",
    "    count_u2 = 0\n",
    "    count_u1_token = 0\n",
    "    count_u2_token = 0\n",
    "    token_sum_s1 = 0\n",
    "    token_sum_s2 = 0\n",
    "    \n",
    "    for k,v in speaker1_dialogue.items():\n",
    "        if k<u_high and k>=u_low:\n",
    "            token_sum_s1 = token_sum_s1 + len(v)\n",
    "            dialogue_s1[k] = ' '.join(speaker1_dialogue[k])\n",
    "            \n",
    "    \n",
    "    for k,v in speaker2_dialogue.items():\n",
    "        if k<u_high and k>=u_low:\n",
    "            token_sum_s2 = token_sum_s2 + len(v)\n",
    "            dialogue_s2[k] = ' '.join(speaker2_dialogue[k])\n",
    "        \n",
    "    while i>1:\n",
    "        for key,value in ex_in_u.items():\n",
    "            if len(key.split()) == i:\n",
    "                for u1 in value[1]:\n",
    "                    if (u1>=u_low) and (u1<u_high) and (u1>= value[0]):\n",
    "#                         print(u1,key)\n",
    "#                 dialogue_dic_s1[u1] = ' '.join(dialogue_dic_s1[u1])\n",
    "                        c1 = dialogue_s1[u1].count(key)\n",
    "                        dialogue_s1[u1] = dialogue_s1[u1].replace(key, '0'*len(key))\n",
    "                        count_u1 = c1+count_u1\n",
    "                        count_u1_token = i*c1 + count_u1_token\n",
    "                for u2 in value[2]:\n",
    "                    if (u2>=u_low) and (u2<u_high) and (u2>= value[0]):\n",
    "#                         print(u2,key)\n",
    "#                 dialogue_dic_s2[u2] = ' '.join(dialogue_dic_s2[u2])\n",
    "                        c2 = dialogue_s2[u2].count(key)\n",
    "                        dialogue_s2[u2] = dialogue_s2[u2].replace(key, '0'*len(key))\n",
    "                        count_u2 = c2+count_u2\n",
    "                        count_u2_token = i*c2 + count_u2_token\n",
    "    \n",
    "        i = i-1\n",
    "        \n",
    "    for key,value in ex_in_u.items():\n",
    "        if len(key.split()) == 1:\n",
    "            for u1 in value[1]:\n",
    "                if (u1>=u_low) and (u1<u_high) and (u1>= value[0]):\n",
    "#                         print(u1,key)\n",
    "#                 dialogue_dic_s1[u1] = ' '.join(dialogue_dic_s1[u1])\n",
    "                    c1 = dialogue_s1[u1].split().count(key)\n",
    "    \n",
    "#                     dialogue_s1[u1] = dialogue_s1[u1].replace(key, '0'*len(key))\n",
    "#                 print(dialogue_dic_s1[u1])\n",
    "                    count_u1 = c1+count_u1\n",
    "                    count_u1_token = i*c1 + count_u1_token\n",
    "            for u2 in value[2]:\n",
    "                if (u2>=u_low) and (u2<u_high) and (u2>= value[0]):\n",
    "#                         print(u2,key)\n",
    "#                 dialogue_dic_s2[u2] = ' '.join(dialogue_dic_s2[u2])\n",
    "                    c2 = dialogue_s2[u2].split().count(key)\n",
    "#                     dialogue_s2[u2] = dialogue_s2[u2].replace(key, '0'*len(key))\n",
    "                    count_u2 = c2+count_u2\n",
    "                    count_u2_token = i*c2 + count_u2_token\n",
    "    \n",
    "             \n",
    "        \n",
    "    if token_sum_s1 != 0:\n",
    "        speaker1_ratio = count_u1_token/token_sum_s1\n",
    "    else:\n",
    "        speaker1_ratio = 0\n",
    "    if token_sum_s2 != 0:\n",
    "        speaker2_ratio = count_u2_token/token_sum_s2\n",
    "    else:\n",
    "        speaker2_ratio = 0\n",
    "            \n",
    "    if (token_sum_s2+token_sum_s1) != 0:\n",
    "        er_ratio = (count_u1_token+count_u2_token)/(token_sum_s1+token_sum_s2)\n",
    "    else:\n",
    "        er_ratio = 0\n",
    "    \n",
    "    return speaker1_ratio,speaker2_ratio,er_ratio"
   ]
  },
  {
   "cell_type": "code",
   "execution_count": 10,
   "metadata": {},
   "outputs": [],
   "source": [
    "import copy\n",
    "import pandas as pd\n",
    "def get_er_ratio_in_time(speaker, speaker1_dialogue, speaker2_dialogue, u_low, u_high):\n",
    "    ex_in_u = get_er_dic_in_window(speaker, speaker1_dialogue, speaker2_dialogue,u_low, u_high)\n",
    "    \n",
    "    \n",
    "    max_len = 0\n",
    "    for key in ex_in_u.keys():\n",
    "        max_len = max(len(key.split()),max_len)\n",
    "    \n",
    "    i = max_len\n",
    "    dialogue_s1 = {}\n",
    "    dialogue_s2 = {}\n",
    "    count_u1 = 0\n",
    "    count_u2 = 0\n",
    "    count_u1_token = 0\n",
    "    count_u2_token = 0\n",
    "    token_sum_s1 = 0\n",
    "    token_sum_s2 = 0\n",
    "#     printout =[]\n",
    "    \n",
    "    for k,v in speaker1_dialogue.items():\n",
    "        if k<u_high and k>=u_low:\n",
    "            token_sum_s1 = token_sum_s1 + len(v)\n",
    "            dialogue_s1[k] = ' '.join(speaker1_dialogue[k])\n",
    "            \n",
    "    \n",
    "    for k,v in speaker2_dialogue.items():\n",
    "        if k<u_high and k>=u_low:\n",
    "            token_sum_s2 = token_sum_s2 + len(v)\n",
    "            dialogue_s2[k] = ' '.join(speaker2_dialogue[k])\n",
    "        \n",
    "    while i>1:\n",
    "        for key,value in ex_in_u.items():\n",
    "            if len(key.split()) == i:\n",
    "                for u1 in value[1]:\n",
    "                    if (u1>=u_low) and (u1<u_high):\n",
    "                        c1 = dialogue_s1[u1].count(key)\n",
    "                        dialogue_s1[u1] = dialogue_s1[u1].replace(key, '0'*len(key))\n",
    "                        if (u1>= value[0]):                        \n",
    "                            count_u1 = c1+count_u1\n",
    "                            count_u1_token = len(key.split())*c1 + count_u1_token\n",
    "#                             dic_out = {'key':key, \"u\":u1, \"count_token\":c1, \"speaker\":speaker[0]}\n",
    "#                             printout.append(dic_out)\n",
    "                for u2 in value[2]:\n",
    "                    if (u2>=u_low) and (u2<u_high):\n",
    "                        c2 = dialogue_s2[u2].count(key)\n",
    "                        dialogue_s2[u2] = dialogue_s2[u2].replace(key, '0'*len(key))\n",
    "                        if (u2>= value[0]):\n",
    "                            count_u2 = c2+count_u2\n",
    "                            count_u2_token = len(key.split())*c2 + count_u2_token\n",
    "#                             dic_out = {'key':key, \"u\":u2, \"count_token\":c2, \"speaker\":speaker[1]}\n",
    "#                             printout.append(dic_out)\n",
    "    \n",
    "        i = i-1\n",
    "    \n",
    "    for key,value in ex_in_u.items():\n",
    "            if len(key.split()) == 1:\n",
    "                for u1 in value[1]:\n",
    "                    if (u1>=u_low) and (u1<u_high):\n",
    "                        c1 = dialogue_s1[u1].split().count(key)\n",
    "                        if (u1>= value[0]):\n",
    "                            count_u1 = c1+count_u1\n",
    "                            count_u1_token = c1 + count_u1_token\n",
    "#                             dic_out = {'key':key, \"u\":u1, \"count_token\":c1, \"speaker\":speaker[0]}\n",
    "#                             printout.append(dic_out)\n",
    "\n",
    "                        \n",
    "                for u2 in value[2]:\n",
    "                    if (u2>=u_low) and (u2<u_high) :\n",
    "                        c2 = dialogue_s2[u2].split().count(key)\n",
    "                        if (u2>= value[0]):\n",
    "                            count_u2 = c2+count_u2\n",
    "                            count_u2_token = c2 + count_u2_token\n",
    "#                             dic_out = {'key':key, \"u\":u2, \"count_token\":c2, \"speaker\":speaker[1]}\n",
    "#                             printout.append(dic_out)\n",
    "    \n",
    "#     dl_test = pd.DataFrame(printout)\n",
    "#     dl_test.to_csv(('test_result_s2a5.csv'), index = False)\n",
    "    \n",
    "        \n",
    "    if token_sum_s1 != 0:\n",
    "        speaker1_ratio = count_u1_token/token_sum_s1\n",
    "    else:\n",
    "        speaker1_ratio = 0\n",
    "    if token_sum_s2 != 0:\n",
    "        speaker2_ratio = count_u2_token/token_sum_s2\n",
    "    else:\n",
    "        speaker2_ratio = 0\n",
    "            \n",
    "    if (token_sum_s2+token_sum_s1) != 0:\n",
    "        er_ratio = (count_u1_token+count_u2_token)/(token_sum_s1+token_sum_s2)\n",
    "    else:\n",
    "        er_ratio = 0\n",
    "    \n",
    "    return speaker1_ratio,speaker2_ratio,er_ratio"
   ]
  },
  {
   "cell_type": "code",
   "execution_count": 11,
   "metadata": {},
   "outputs": [],
   "source": [
    "def get_er_ratio_in_time_after(speaker, speaker1_dialogue, speaker2_dialogue, ex_in_u, u_low, u_high):\n",
    "    max_len = 0\n",
    "    for key in ex_in_u.keys():\n",
    "        max_len = max(len(key.split()),max_len)\n",
    "    \n",
    "    i = max_len\n",
    "    dialogue_s1 = {}\n",
    "    dialogue_s2 = {}\n",
    "    count_u1 = 0\n",
    "    count_u2 = 0\n",
    "    count_u1_token = 0\n",
    "    count_u2_token = 0\n",
    "    token_sum_s1 = 0\n",
    "    token_sum_s2 = 0\n",
    "    \n",
    "    for k,v in speaker1_dialogue.items():\n",
    "        if k<u_high and k>=u_low:\n",
    "            token_sum_s1 = token_sum_s1 + len(v)\n",
    "            dialogue_s1[k] = ' '.join(speaker1_dialogue[k])\n",
    "            \n",
    "    \n",
    "    for k,v in speaker2_dialogue.items():\n",
    "        if k<u_high and k>=u_low:\n",
    "            token_sum_s2 = token_sum_s2 + len(v)\n",
    "            dialogue_s2[k] = ' '.join(speaker2_dialogue[k])\n",
    "        \n",
    "    while i>1:\n",
    "        for key,value in ex_in_u.items():\n",
    "            if len(key.split()) == i:\n",
    "                for u1 in value[1]:\n",
    "                    if (u1>=u_low and u1<u_high):\n",
    "#                         print(u1,key)\n",
    "#                 dialogue_dic_s1[u1] = ' '.join(dialogue_dic_s1[u1])\n",
    "                        c1 = dialogue_s1[u1].count(' ' + key)\n",
    "                        dialogue_s1[u1] = dialogue_s1[u1].replace(key, '0'*len(key))\n",
    "#                 print(dialogue_dic_s1[u1])\n",
    "                        count_u1 = c1+count_u1\n",
    "                        count_u1_token = i*c1 + count_u1_token\n",
    "                for u2 in value[2]:\n",
    "                    if (u2>=u_low and u2<u_high):\n",
    "#                         print(u2,key)\n",
    "#                 dialogue_dic_s2[u2] = ' '.join(dialogue_dic_s2[u2])\n",
    "                        c2 = dialogue_s2[u2].count(' ' + key)\n",
    "                        dialogue_s2[u2] = dialogue_s2[u2].replace(key, '0'*len(key))\n",
    "                        count_u2 = c2+count_u2\n",
    "                        count_u2_token = i*c2 + count_u2_token\n",
    "    \n",
    "        i = i-1\n",
    "        \n",
    "      \n",
    "        if token_sum_s1 != 0:\n",
    "            speaker1_ratio = count_u1_token/token_sum_s1\n",
    "        else:\n",
    "            speaker1_ratio = 0\n",
    "    \n",
    "        if token_sum_s2 != 0:\n",
    "            speaker2_ratio = count_u2_token/token_sum_s2\n",
    "        else:\n",
    "            speaker2_ratio = 0\n",
    "            \n",
    "        if (token_sum_s2+token_sum_s1) != 0:\n",
    "            er_ratio = (count_u1_token+count_u2_token)/(token_sum_s1+token_sum_s2)\n",
    "        else:\n",
    "            er_ratio = 0\n",
    "    \n",
    "    return speaker1_ratio,speaker2_ratio,er_ratio"
   ]
  },
  {
   "cell_type": "code",
   "execution_count": 12,
   "metadata": {},
   "outputs": [],
   "source": [
    "def number_of_slot(dialogue1,dialogue2,length_u):\n",
    "    number_of_u = len(dialogue1)+len(dialogue2)\n",
    "    number_slot = int(number_of_u - number_of_u%length_u)/length_u\n",
    "\n",
    "    return int(number_slot)"
   ]
  },
  {
   "cell_type": "code",
   "execution_count": 22,
   "metadata": {},
   "outputs": [],
   "source": [
    "def get_er_ratio_temporal(speaker, speaker1_dialogue, speaker2_dialogue, length):\n",
    "    slot_number = number_of_slot(speaker1_dialogue, speaker2_dialogue,length)\n",
    "    er_dic = {}\n",
    "    er_dic_list = []\n",
    "    \n",
    "    for i in range(0,slot_number):\n",
    "        er = get_er_ratio_in_time(speaker,speaker1_dialogue,speaker2_dialogue,length*i,length*(i+1))\n",
    "        er_dic = {'begin':length*i, 'end': length*(i+1), 's1_er_ratio':er[0],'s2_er_ratio':er[1],'er_ratio_average':er[2]}\n",
    "        er_dic_list.append(er_dic)\n",
    "    \n",
    "    er_end = get_er_ratio_in_time(speaker,speaker1_dialogue,speaker2_dialogue,slot_number*length,len(speaker1_dialogue)+len(speaker2_dialogue))\n",
    "    er_dic_end = {'begin':slot_number*length, 'end': len(speaker1_dialogue)+len(speaker2_dialogue), 's1_er_ratio':er_end[0], 's2_er_ratio':er_end[1], 'er_ratio_average':er_end[2]}  \n",
    "    er_dic_list.append(er_dic_end)\n",
    "    \n",
    "    return er_dic_list\n",
    "        "
   ]
  },
  {
   "cell_type": "code",
   "execution_count": 14,
   "metadata": {},
   "outputs": [],
   "source": [
    "speaker = extract_speakers(df)\n",
    "dialogue_dic = extract_dialogues_dic(speaker[0],speaker[1])"
   ]
  },
  {
   "cell_type": "code",
   "execution_count": 15,
   "metadata": {},
   "outputs": [],
   "source": [
    "ex_dic = get_er_dic_in_window(dialogue_dic[0],dialogue_dic[1],dialogue_dic[2],0,50)"
   ]
  },
  {
   "cell_type": "code",
   "execution_count": 16,
   "metadata": {},
   "outputs": [
    {
     "name": "stdout",
     "output_type": "stream",
     "text": [
      "{'mm': [11, [2], [11, 39, 43]], 'to be a sport journalist': [4, [4], [3]], 'to be a': [4, [4], [3]], 'a sport': [4, [4], [3]], 'well': [4, [4, 10, 12, 13], [3]], 'yeah': [4, [4, 15, 16, 20, 34, 36], [3, 5, 21, 33, 37]], 'to': [4, [4, 10, 15, 26, 40, 42], [3, 33, 35]], 'so': [4, [4, 16, 24, 30, 32, 42, 46], [3]], 'be': [4, [4, 6, 8, 10, 13, 16, 20, 26, 30, 32, 40, 48], [3, 19, 33]], 'sport': [4, [4, 24, 26], [3, 5, 19]], 'sport journalist': [19, [4], [19]], 'a a': [19, [4, 48], [19]], 'a': [19, [4, 18, 20, 22, 24, 26, 28, 30, 36, 40, 42, 44, 48], [19]], 'um yeah': [33, [4], [33]], 'i': [33, [4, 8, 10, 12, 13, 16, 26, 40, 42, 44, 46, 48], [33]], 'in': [33, [4, 13, 26, 30, 42], [33]], 'the': [33, [4, 6, 10, 13, 16, 20, 22, 26, 30, 32, 40, 42, 44, 48], [33, 35]], 'um': [33, [4, 10, 13, 16, 18, 26, 42], [33]], 'years': [33, [4, 18, 44], [33]], 'like': [33, [4, 10, 13, 15, 44], [33]], 'two': [33, [8, 44], [33]], 'it': [10, [10, 13, 16, 20, 26, 38, 40, 42], [3, 33]], 'what': [10, [10, 12], [5]], 'get': [14, [10, 15, 26, 40, 42, 48], [14, 33, 35]], 'that': [19, [10, 16, 20, 40, 42, 44, 46], [19]], 'i think': [33, [10, 26], [33]], 'my': [33, [10, 26, 48], [33]], 'think': [33, [10], [33]], 'do': [33, [10, 12, 13, 18, 24, 40], [33]], 'you': [15, [15, 26, 36, 40, 42], [3]], 'get free ticket': [15, [15], [14]], 'so yeah': [16, [16], [3]], 'be like': [33, [16, 40], [33]], 'yeah i': [33, [16], [33]], 'degree': [33, [18, 26], [33]], 'be a': [20, [20, 48], [3]], 'it be': [33, [20, 26, 40], [33]], 'specifically sport': [24, [24], [19]], 'really': [28, [28, 30, 40, 48], [3, 29, 31]], 'as': [28, [28, 32], [3]], \"didn't\": [33, [28], [33]], 'so you': [30, [30], [3]], 'year': [33, [30, 44, 48], [33, 35]], \"could've\": [33, [30], [33]], 'into': [35, [30], [35]], \"it's\": [32, [32, 42], [1]], 'as well': [36, [36], [3]], 'have': [40, [40, 44], [33]], 'first': [40, [40, 42], [33]], 'the first year': [44, [44], [33]], 'really good': [48, [48], [3]], 'the second year': [48, [48], [35]]}\n"
     ]
    }
   ],
   "source": [
    "print(ex_dic)"
   ]
  },
  {
   "cell_type": "code",
   "execution_count": 17,
   "metadata": {},
   "outputs": [
    {
     "name": "stdout",
     "output_type": "stream",
     "text": [
      "52\n"
     ]
    }
   ],
   "source": [
    "print(len(ex_dic))"
   ]
  },
  {
   "cell_type": "code",
   "execution_count": 18,
   "metadata": {},
   "outputs": [],
   "source": [
    "er_list_2 = get_er_ratio_in_time(dialogue_dic[0],dialogue_dic[1],dialogue_dic[2],0 ,50)"
   ]
  },
  {
   "cell_type": "code",
   "execution_count": 19,
   "metadata": {},
   "outputs": [
    {
     "name": "stdout",
     "output_type": "stream",
     "text": [
      "0.30095238095238097\n",
      "0.3958333333333333\n",
      "0.31561996779388085\n"
     ]
    }
   ],
   "source": [
    "for x in er_list_2:\n",
    "    print(x)"
   ]
  },
  {
   "cell_type": "code",
   "execution_count": 20,
   "metadata": {},
   "outputs": [],
   "source": [
    "slots = number_of_slot(dialogue_dic[1],dialogue_dic[2],50)"
   ]
  },
  {
   "cell_type": "code",
   "execution_count": 21,
   "metadata": {},
   "outputs": [
    {
     "name": "stdout",
     "output_type": "stream",
     "text": [
      "23\n"
     ]
    }
   ],
   "source": [
    "print(slots)"
   ]
  },
  {
   "cell_type": "code",
   "execution_count": 24,
   "metadata": {},
   "outputs": [],
   "source": [
    "er_result = get_er_ratio_temporal(dialogue_dic[0],dialogue_dic[1],dialogue_dic[2],50)"
   ]
  },
  {
   "cell_type": "code",
   "execution_count": 26,
   "metadata": {},
   "outputs": [
    {
     "name": "stdout",
     "output_type": "stream",
     "text": [
      "0.31561996779388085\n",
      "0.18615384615384614\n",
      "0.3217391304347826\n",
      "0.381201044386423\n",
      "0.19\n",
      "0.11145510835913312\n",
      "0.24306688417618272\n",
      "0.26009693053311794\n",
      "0.406807131280389\n",
      "0.3632286995515695\n",
      "0.4350282485875706\n",
      "0.4409221902017291\n",
      "0.42685851318944845\n",
      "0.2420814479638009\n",
      "0.36597938144329895\n",
      "0.3129161118508655\n",
      "0.22408026755852842\n",
      "0.3277777777777778\n",
      "0.38571428571428573\n",
      "0.38768115942028986\n",
      "0.3974630021141649\n",
      "0.2620689655172414\n",
      "0.3226452905811623\n",
      "0.3664302600472813\n"
     ]
    }
   ],
   "source": [
    "for e in er_result:\n",
    "    print(e['er_ratio_average'])"
   ]
  },
  {
   "cell_type": "code",
   "execution_count": 27,
   "metadata": {},
   "outputs": [
    {
     "name": "stdout",
     "output_type": "stream",
     "text": [
      "[{'begin': 0, 'end': 50, 's1_er_ratio': 0.30095238095238097, 's2_er_ratio': 0.3958333333333333, 'er_ratio_average': 0.31561996779388085}, {'begin': 50, 'end': 100, 's1_er_ratio': 0.4472361809045226, 's2_er_ratio': 0.6226415094339622, 'er_ratio_average': 0.46153846153846156}, {'begin': 100, 'end': 150, 's1_er_ratio': 0.5726141078838174, 's2_er_ratio': 0.6774193548387096, 'er_ratio_average': 0.5895652173913043}, {'begin': 150, 'end': 200, 's1_er_ratio': 0.6329113924050633, 's2_er_ratio': 0.664179104477612, 'er_ratio_average': 0.6383812010443864}, {'begin': 200, 'end': 250, 's1_er_ratio': 0.641213389121339, 's2_er_ratio': 0.5681818181818182, 'er_ratio_average': 0.638}, {'begin': 250, 'end': 300, 's1_er_ratio': 0.6767317939609236, 's2_er_ratio': 0.7228915662650602, 'er_ratio_average': 0.6826625386996904}, {'begin': 300, 'end': 350, 's1_er_ratio': 0.6490566037735849, 's2_er_ratio': 0.7590361445783133, 'er_ratio_average': 0.6639477977161501}, {'begin': 350, 'end': 400, 's1_er_ratio': 0.6967509025270758, 's2_er_ratio': 0.7692307692307693, 'er_ratio_average': 0.7043618739903069}, {'begin': 400, 'end': 450, 's1_er_ratio': 0.7043478260869566, 's2_er_ratio': 0.7961783439490446, 'er_ratio_average': 0.7277147487844409}, {'begin': 450, 'end': 500, 's1_er_ratio': 0.7132867132867133, 's2_er_ratio': 0.8375, 'er_ratio_average': 0.757847533632287}, {'begin': 500, 'end': 550, 's1_er_ratio': 0.7937219730941704, 's2_er_ratio': 0.8091603053435115, 'er_ratio_average': 0.7994350282485876}, {'begin': 550, 'end': 600, 's1_er_ratio': 0.8166666666666667, 's2_er_ratio': 0.822429906542056, 'er_ratio_average': 0.8184438040345822}, {'begin': 600, 'end': 650, 's1_er_ratio': 0.85, 's2_er_ratio': 0.8361581920903954, 'er_ratio_average': 0.8441247002398081}, {'begin': 650, 'end': 700, 's1_er_ratio': 0.8411764705882353, 's2_er_ratio': 0.7549019607843137, 'er_ratio_average': 0.8212669683257918}, {'begin': 700, 'end': 750, 's1_er_ratio': 0.8134328358208955, 's2_er_ratio': 0.7833333333333333, 'er_ratio_average': 0.8041237113402062}, {'begin': 750, 'end': 800, 's1_er_ratio': 0.8258164852255054, 's2_er_ratio': 0.8888888888888888, 'er_ratio_average': 0.8348868175765646}, {'begin': 800, 'end': 850, 's1_er_ratio': 0.8093525179856115, 's2_er_ratio': 0.5, 'er_ratio_average': 0.7876254180602007}, {'begin': 850, 'end': 900, 's1_er_ratio': 0.783410138248848, 's2_er_ratio': 0.7902097902097902, 'er_ratio_average': 0.7861111111111111}, {'begin': 900, 'end': 950, 's1_er_ratio': 0.8518518518518519, 's2_er_ratio': 0.8795811518324608, 'er_ratio_average': 0.8734693877551021}, {'begin': 950, 'end': 1000, 's1_er_ratio': 0.8498402555910544, 's2_er_ratio': 0.8326359832635983, 'er_ratio_average': 0.842391304347826}, {'begin': 1000, 'end': 1050, 's1_er_ratio': 0.8714285714285714, 's2_er_ratio': 0.8186528497409327, 'er_ratio_average': 0.8498942917547568}, {'begin': 1050, 'end': 1100, 's1_er_ratio': 0.8540772532188842, 's2_er_ratio': 0.8333333333333334, 'er_ratio_average': 0.85}, {'begin': 1100, 'end': 1150, 's1_er_ratio': 0.8648648648648649, 's2_er_ratio': 0.8369565217391305, 'er_ratio_average': 0.8597194388777555}, {'begin': 1150, 'end': 1196, 's1_er_ratio': 0.8333333333333334, 's2_er_ratio': 0.9290780141843972, 'er_ratio_average': 0.8652482269503546}]\n"
     ]
    }
   ],
   "source": [
    "print(er_result)"
   ]
  },
  {
   "cell_type": "code",
   "execution_count": null,
   "metadata": {},
   "outputs": [],
   "source": []
  },
  {
   "cell_type": "code",
   "execution_count": 27,
   "metadata": {},
   "outputs": [],
   "source": [
    "import pandas as pd\n",
    "path = '~/corpus/bnc_untagged_dialign/tsvfiles/output_er_summary_dialign_in_window'\n",
    "dl = []\n",
    "import glob,os\n",
    "files = glob.glob('S***.tsv')\n",
    "for f in files:\n",
    "    dff = spark.read.csv(f, sep=r'\\t', header=False, mode=\"DROPMALFORMED\")\n",
    "    speaker_f = extract_speakers(dff)\n",
    "    dialogue_dic_f = extract_dialogues_dic(speaker_f[0],speaker_f[1])\n",
    "#     ex_dic_f = get_er_dic(dialogue_dic_f[0],dialogue_dic_f[1],dialogue_dic_f[2])\n",
    "#     for k,v in ex_dic_f.items():\n",
    "#         print(f,k,',',v)\n",
    "#     print(dialogue_dic_f[1][4])\n",
    "    er_result_f = get_er_ratio_temporal(dialogue_dic_f[0],dialogue_dic_f[1],dialogue_dic_f[2],50)\n",
    "    for fx in er_result_f:\n",
    "        fx['file'] = f\n",
    "    \n",
    "    dl_s = pd.DataFrame(er_result_f)\n",
    "    dl_s.to_csv(os.path.join(path,f[0:5] + 'csv'), index = False)"
   ]
  },
  {
   "cell_type": "code",
   "execution_count": 147,
   "metadata": {},
   "outputs": [
    {
     "name": "stdout",
     "output_type": "stream",
     "text": [
      "0\n"
     ]
    }
   ],
   "source": [
    "list1 = ['hello','love','life']\n",
    "c = list1.count('l')\n",
    "print(c)"
   ]
  },
  {
   "cell_type": "code",
   "execution_count": 40,
   "metadata": {},
   "outputs": [
    {
     "name": "stdout",
     "output_type": "stream",
     "text": [
      "[]\n"
     ]
    }
   ],
   "source": []
  },
  {
   "cell_type": "code",
   "execution_count": 36,
   "metadata": {},
   "outputs": [
    {
     "ename": "IndexError",
     "evalue": "list index out of range",
     "output_type": "error",
     "traceback": [
      "\u001b[0;31m---------------------------------------------------------------------------\u001b[0m",
      "\u001b[0;31mIndexError\u001b[0m                                Traceback (most recent call last)",
      "\u001b[0;32m<ipython-input-36-3b0edf2f9b16>\u001b[0m in \u001b[0;36m<module>\u001b[0;34m\u001b[0m\n\u001b[0;32m----> 1\u001b[0;31m \u001b[0mprint\u001b[0m\u001b[0;34m(\u001b[0m\u001b[0mdl_er\u001b[0m\u001b[0;34m[\u001b[0m\u001b[0;36m0\u001b[0m\u001b[0;34m]\u001b[0m\u001b[0;34m)\u001b[0m\u001b[0;34m\u001b[0m\u001b[0;34m\u001b[0m\u001b[0m\n\u001b[0m\u001b[1;32m      2\u001b[0m \u001b[0;34m\u001b[0m\u001b[0m\n",
      "\u001b[0;31mIndexError\u001b[0m: list index out of range"
     ]
    }
   ],
   "source": [
    "\n",
    "    "
   ]
  },
  {
   "cell_type": "code",
   "execution_count": null,
   "metadata": {},
   "outputs": [],
   "source": []
  }
 ],
 "metadata": {
  "kernelspec": {
   "display_name": "Python 3",
   "language": "python",
   "name": "python3"
  },
  "language_info": {
   "codemirror_mode": {
    "name": "ipython",
    "version": 3
   },
   "file_extension": ".py",
   "mimetype": "text/x-python",
   "name": "python",
   "nbconvert_exporter": "python",
   "pygments_lexer": "ipython3",
   "version": "3.7.6"
  }
 },
 "nbformat": 4,
 "nbformat_minor": 4
}

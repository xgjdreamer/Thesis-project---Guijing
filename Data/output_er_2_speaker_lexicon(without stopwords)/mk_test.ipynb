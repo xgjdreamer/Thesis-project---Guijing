{
 "cells": [
  {
   "cell_type": "code",
   "execution_count": 7,
   "metadata": {},
   "outputs": [],
   "source": [
    "import numpy as np\n",
    "import pymannkendall as mk\n",
    "import pandas as pd\n",
    "import glob,os"
   ]
  },
  {
   "cell_type": "code",
   "execution_count": 8,
   "metadata": {},
   "outputs": [],
   "source": [
    "df_summary = pd.read_csv('2group_summary.csv')"
   ]
  },
  {
   "cell_type": "code",
   "execution_count": 9,
   "metadata": {},
   "outputs": [
    {
     "name": "stdout",
     "output_type": "stream",
     "text": [
      "      begin  end  s1_er_ratio  s2_er_ratio  er_ratio_average      file\n",
      "0         0   50     0.335079     0.344828          0.340956  SUEL.tsv\n",
      "1        50  100     0.560847     0.636364          0.586806  SUEL.tsv\n",
      "2       100  150     0.592593     0.662338          0.608069  SUEL.tsv\n",
      "3       150  200     0.622951     0.668394          0.650794  SUEL.tsv\n",
      "4       200  250     0.714286     0.780120          0.763514  SUEL.tsv\n",
      "...     ...  ...          ...          ...               ...       ...\n",
      "9058    200  250     0.806818     0.774611          0.789973  SPXX.tsv\n",
      "9059    250  300     0.834906     0.771784          0.812030  SPXX.tsv\n",
      "9060    300  350     0.856031     0.782609          0.811728  SPXX.tsv\n",
      "9061    350  400     0.828947     0.811456          0.818811  SPXX.tsv\n",
      "9062    400  414     0.844262     0.735294          0.820513  SPXX.tsv\n",
      "\n",
      "[9063 rows x 6 columns]\n"
     ]
    }
   ],
   "source": [
    "print(df_summary)"
   ]
  },
  {
   "cell_type": "code",
   "execution_count": 10,
   "metadata": {},
   "outputs": [
    {
     "name": "stdout",
     "output_type": "stream",
     "text": [
      "     end  er_ratio_average\n",
      "0     50          0.373922\n",
      "1    100          0.596616\n",
      "2    150          0.672498\n",
      "3    200          0.713801\n",
      "4    250          0.742118\n",
      "..   ...               ...\n",
      "89  4500          0.914956\n",
      "90  4550          0.935811\n",
      "91  4600          0.920139\n",
      "92  4650          0.908163\n",
      "93  4700          0.929936\n",
      "\n",
      "[94 rows x 2 columns]\n"
     ]
    },
    {
     "name": "stderr",
     "output_type": "stream",
     "text": [
      "/opt/anaconda3/lib/python3.7/site-packages/pandas/core/indexing.py:670: SettingWithCopyWarning: \n",
      "A value is trying to be set on a copy of a slice from a DataFrame\n",
      "\n",
      "See the caveats in the documentation: https://pandas.pydata.org/pandas-docs/stable/user_guide/indexing.html#returning-a-view-versus-a-copy\n",
      "  self._setitem_with_indexer(indexer, value)\n"
     ]
    }
   ],
   "source": [
    "for i in range(0, len(df_summary)):\n",
    "    if df_summary['end'].iloc[i]%50!=0:\n",
    "        df_summary['er_ratio_average'].iloc[i] = None\n",
    "\n",
    "df_summary = df_summary.dropna()\n",
    "\n",
    "grouped_df = df_summary.groupby(\"end\")\n",
    "mean_df = grouped_df['er_ratio_average'].mean()\n",
    "\n",
    "mean_df = mean_df.reset_index()\n",
    "print(mean_df)"
   ]
  },
  {
   "cell_type": "code",
   "execution_count": 5,
   "metadata": {},
   "outputs": [],
   "source": [
    "import matplotlib.pyplot as plt"
   ]
  },
  {
   "cell_type": "code",
   "execution_count": 6,
   "metadata": {},
   "outputs": [
    {
     "data": {
      "text/plain": [
       "Text(0, 0.5, 'Average ER ratio')"
      ]
     },
     "execution_count": 6,
     "metadata": {},
     "output_type": "execute_result"
    },
    {
     "data": {
      "image/png": "[encoded data removed]",
      "text/plain": [
       "<Figure size 432x288 with 1 Axes>"
      ]
     },
     "metadata": {
      "needs_background": "light"
     },
     "output_type": "display_data"
    }
   ],
   "source": [
    "l1=plt.plot(mean_df['end'],mean_df['er_ratio_average'],label='type1')\n",
    "plt.title('The Average ER ratio at each position')\n",
    "plt.xlabel('Position')\n",
    "plt.ylabel('Average ER ratio')"
   ]
  },
  {
   "cell_type": "code",
   "execution_count": null,
   "metadata": {},
   "outputs": [],
   "source": [
    "plt.show()"
   ]
  },
  {
   "cell_type": "code",
   "execution_count": null,
   "metadata": {},
   "outputs": [],
   "source": []
  },
  {
   "cell_type": "code",
   "execution_count": null,
   "metadata": {},
   "outputs": [],
   "source": []
  },
  {
   "cell_type": "code",
   "execution_count": 2,
   "metadata": {},
   "outputs": [],
   "source": [
    "er_file = glob.glob(\"S***.csv\")"
   ]
  },
  {
   "cell_type": "code",
   "execution_count": 3,
   "metadata": {},
   "outputs": [],
   "source": [
    "dl_er = []\n",
    "out = []\n",
    "for f in er_file:\n",
    "    dl_er.append(pd.read_csv(f))\n",
    "\n",
    "for x in dl_er:\n",
    "    if len(x)>8:\n",
    "        x = x.drop(index=[len(x)-1])\n",
    "        out.append(mk.original_test(x['er_ratio_average']))"
   ]
  },
  {
   "cell_type": "code",
   "execution_count": 4,
   "metadata": {},
   "outputs": [
    {
     "name": "stdout",
     "output_type": "stream",
     "text": [
      "622\n",
      "412\n",
      "410\n",
      "0.7524271844660194\n"
     ]
    }
   ],
   "source": [
    "print(len(dl_er))\n",
    "print(len(out))\n",
    "c = 0\n",
    "for o in out:\n",
    "    if o.trend == \"increasing\":\n",
    "        c = c+1\n",
    "print(c)\n",
    "print(310/412)"
   ]
  },
  {
   "cell_type": "code",
   "execution_count": 5,
   "metadata": {},
   "outputs": [],
   "source": [
    "df = pd.concat(dl_er)\n",
    "df.to_csv('2group_summary.csv', index = False)"
   ]
  },
  {
   "cell_type": "code",
   "execution_count": 7,
   "metadata": {},
   "outputs": [
    {
     "ename": "NameError",
     "evalue": "name 'df' is not defined",
     "output_type": "error",
     "traceback": [
      "\u001b[0;31m---------------------------------------------------------------------------\u001b[0m",
      "\u001b[0;31mNameError\u001b[0m                                 Traceback (most recent call last)",
      "\u001b[0;32m<ipython-input-7-2a851eda2e88>\u001b[0m in \u001b[0;36m<module>\u001b[0;34m\u001b[0m\n\u001b[0;32m----> 1\u001b[0;31m \u001b[0mprint\u001b[0m\u001b[0;34m(\u001b[0m\u001b[0mdf\u001b[0m\u001b[0;34m)\u001b[0m\u001b[0;34m\u001b[0m\u001b[0;34m\u001b[0m\u001b[0m\n\u001b[0m",
      "\u001b[0;31mNameError\u001b[0m: name 'df' is not defined"
     ]
    }
   ],
   "source": []
  },
  {
   "cell_type": "code",
   "execution_count": null,
   "metadata": {},
   "outputs": [],
   "source": []
  },
  {
   "cell_type": "code",
   "execution_count": null,
   "metadata": {},
   "outputs": [],
   "source": []
  },
  {
   "cell_type": "code",
   "execution_count": null,
   "metadata": {},
   "outputs": [],
   "source": []
  },
  {
   "cell_type": "code",
   "execution_count": null,
   "metadata": {},
   "outputs": [],
   "source": []
  },
  {
   "cell_type": "code",
   "execution_count": null,
   "metadata": {},
   "outputs": [],
   "source": []
  },
  {
   "cell_type": "code",
   "execution_count": 10,
   "metadata": {},
   "outputs": [],
   "source": [
    "dl_er2 = []\n",
    "for q in dl_er:\n",
    "    if len(q)>16 and len(q)<24:\n",
    "        dl_er2.append(q)\n",
    "df2 = pd.concat(dl_er2)\n",
    "df2.to_csv('2group_2.csv', index = False)"
   ]
  },
  {
   "cell_type": "code",
   "execution_count": 6,
   "metadata": {},
   "outputs": [],
   "source": [
    "import numpy as np\n",
    "import statsmodels.api as sm\n",
    "from scipy import stats\n",
    "from matplotlib import pyplot as plt\n",
    "\n",
    "plt.rc(\"figure\", figsize=(16,8))\n",
    "plt.rc(\"font\", size=14)"
   ]
  },
  {
   "cell_type": "code",
   "execution_count": 7,
   "metadata": {},
   "outputs": [],
   "source": [
    "glm_binom = sm.GLM(df['end'], df['er_ratio_average'], family=sm.families.Binomial())"
   ]
  },
  {
   "cell_type": "code",
   "execution_count": 9,
   "metadata": {},
   "outputs": [
    {
     "name": "stdout",
     "output_type": "stream",
     "text": [
      "                 Generalized Linear Model Regression Results                  \n",
      "==============================================================================\n",
      "Dep. Variable:                    end   No. Observations:                 9063\n",
      "Model:                            GLM   Df Residuals:                     9062\n",
      "Model Family:                Binomial   Df Model:                            0\n",
      "Link Function:                  logit   Scale:                          1.0000\n",
      "Method:                          IRLS   Log-Likelihood:                    nan\n",
      "Date:                Mon, 26 Apr 2021   Deviance:                   4.7397e+08\n",
      "Time:                        01:48:40   Pearson chi2:                 2.99e+25\n",
      "No. Iterations:                     2                                         \n",
      "Covariance Type:            nonrobust                                         \n",
      "====================================================================================\n",
      "                       coef    std err          z      P>|z|      [0.025      0.975]\n",
      "------------------------------------------------------------------------------------\n",
      "er_ratio_average  6.545e+18   1.08e+06   6.05e+12      0.000    6.55e+18    6.55e+18\n",
      "====================================================================================\n"
     ]
    },
    {
     "name": "stderr",
     "output_type": "stream",
     "text": [
      "/opt/anaconda3/lib/python3.7/site-packages/statsmodels/genmod/families/family.py:894: RuntimeWarning: divide by zero encountered in true_divide\n",
      "  n_endog_mu = self._clean((1. - endog) / (1. - mu))\n",
      "/opt/anaconda3/lib/python3.7/site-packages/statsmodels/genmod/families/family.py:946: RuntimeWarning: divide by zero encountered in true_divide\n",
      "  special.gammaln(n - y + 1) + y * np.log(mu / (1 - mu)) +\n",
      "/opt/anaconda3/lib/python3.7/site-packages/statsmodels/genmod/families/family.py:946: RuntimeWarning: invalid value encountered in add\n",
      "  special.gammaln(n - y + 1) + y * np.log(mu / (1 - mu)) +\n",
      "/opt/anaconda3/lib/python3.7/site-packages/statsmodels/genmod/families/family.py:947: RuntimeWarning: divide by zero encountered in log\n",
      "  n * np.log(1 - mu)) * var_weights\n"
     ]
    }
   ],
   "source": [
    "res = glm_binom.fit()\n",
    "print(res.summary())"
   ]
  },
  {
   "cell_type": "code",
   "execution_count": 11,
   "metadata": {},
   "outputs": [
    {
     "name": "stdout",
     "output_type": "stream",
     "text": [
      "622\n"
     ]
    }
   ],
   "source": [
    "print(len(dl_er))"
   ]
  },
  {
   "cell_type": "code",
   "execution_count": null,
   "metadata": {},
   "outputs": [],
   "source": []
  }
 ],
 "metadata": {
  "kernelspec": {
   "display_name": "Python 3",
   "language": "python",
   "name": "python3"
  },
  "language_info": {
   "codemirror_mode": {
    "name": "ipython",
    "version": 3
   },
   "file_extension": ".py",
   "mimetype": "text/x-python",
   "name": "python",
   "nbconvert_exporter": "python",
   "pygments_lexer": "ipython3",
   "version": "3.7.6"
  }
 },
 "nbformat": 4,
 "nbformat_minor": 4
}
